{
 "cells": [
  {
   "cell_type": "code",
   "execution_count": 1,
   "metadata": {},
   "outputs": [],
   "source": [
    "import openai \n",
    "import tiktoken \n",
    "import chromadb \n",
    "import langchain"
   ]
  },
  {
   "cell_type": "code",
   "execution_count": 2,
   "metadata": {},
   "outputs": [],
   "source": [
    "from langchain.custom_text_splitter import Language\n",
    "from langchain.document_loaders.generic import GenericLoader\n",
    "from langchain.document_loaders.parsers import LanguageParser"
   ]
  },
  {
   "cell_type": "code",
   "execution_count": 3,
   "metadata": {},
   "outputs": [
    {
     "data": {
      "text/plain": [
       "True"
      ]
     },
     "execution_count": 3,
     "metadata": {},
     "output_type": "execute_result"
    }
   ],
   "source": [
    "#API key\n",
    "import dotenv\n",
    "dotenv.load_dotenv()"
   ]
  },
  {
   "cell_type": "code",
   "execution_count": 4,
   "metadata": {},
   "outputs": [],
   "source": [
    "#Persist Directory\n",
    "persist_directory = 'C:\\ProjectLFG\\PersistedEmbeddings'"
   ]
  },
  {
   "cell_type": "code",
   "execution_count": 5,
   "metadata": {},
   "outputs": [],
   "source": [
    "# Now we can load the persisted database from disk, and use it as normal. \n",
    "from langchain.vectorstores import Chroma\n",
    "from langchain.embeddings.openai import OpenAIEmbeddings\n",
    "embedding = OpenAIEmbeddings(disallowed_special=())\n",
    "db = Chroma(persist_directory=persist_directory, \n",
    "                  embedding_function=embedding)"
   ]
  },
  {
   "cell_type": "markdown",
   "metadata": {},
   "source": [
    "Setting Up Retriever"
   ]
  },
  {
   "cell_type": "code",
   "execution_count": 20,
   "metadata": {},
   "outputs": [],
   "source": [
    "#Setting up Retriever\n",
    "retriever = db.as_retriever(\n",
    "    search_type=\"mmr\", # Also test \"similarity\"\n",
    "    search_kwargs={\"k\": 4}, # Number of relevant document to return\n",
    ")"
   ]
  },
  {
   "cell_type": "code",
   "execution_count": 21,
   "metadata": {},
   "outputs": [],
   "source": [
    "# Set up Chat\n",
    "from langchain.chat_models import ChatOpenAI\n",
    "from langchain.memory import ConversationSummaryMemory\n",
    "from langchain.chains import ConversationalRetrievalChain\n",
    "llm = ChatOpenAI(model_name=\"gpt-3.5-turbo-16k-0613\") \n",
    "\n",
    "memory = ConversationSummaryMemory(llm=llm,memory_key=\"chat_history\",return_messages=True)\n",
    "qa = ConversationalRetrievalChain.from_llm(llm, retriever=retriever, memory=memory)"
   ]
  },
  {
   "cell_type": "code",
   "execution_count": 22,
   "metadata": {},
   "outputs": [],
   "source": [
    "question = '''List Down all the tables that are beging used to create \"DimUnifiedPartner\" table'''\n",
    "# To see relevant documents\n",
    "docs = retriever.get_relevant_documents(question)"
   ]
  },
  {
   "cell_type": "code",
   "execution_count": 28,
   "metadata": {},
   "outputs": [],
   "source": [
    "f = open(\"test-splits.sql\", \"w\")"
   ]
  },
  {
   "cell_type": "code",
   "execution_count": 34,
   "metadata": {},
   "outputs": [
    {
     "data": {
      "text/plain": [
       "5933"
      ]
     },
     "execution_count": 34,
     "metadata": {},
     "output_type": "execute_result"
    }
   ],
   "source": [
    "f.write(docs[0].page_content)\n",
    "f.write( ''.join(' '.join(str(x) for x in docs[0].page_content)) )"
   ]
  },
  {
   "cell_type": "code",
   "execution_count": 27,
   "metadata": {},
   "outputs": [
    {
     "name": "stdout",
     "output_type": "stream",
     "text": [
      "-- DBTITLE 1,Create DimUnifiedPartner_Final table \n",
      "DROP TABLE IF EXISTS DimUnifiedPartner_Final;\n",
      "CREATE TABLE DimUnifiedPartner_Final AS \n",
      "SELECT  UnifiedPartnerKey\n",
      "        ,SourceID AS PartnerID\n",
      "        ,PartnerName\n",
      "\t\t,PartnerOrgType\n",
      "\t\t,MPNVOrgID AS VOrgID\n",
      "\t\t,DUP.PartnerGlobalID AS PartnerGlobalID\n",
      "\t\t,SourceName\n",
      "\t\t,PartnerOneSubID\n",
      "\t\t,DUP.PartnerOneSubKey\n",
      "\t\t,DUP.PartnerOneID\n",
      "\t\t,CASE WHEN DUP.PartnerOneID = -9999 THEN 'Unmatched Partners' ELSE PartnerOneName END AS PartnerOneName\n",
      "\t\t,IsLSP\n",
      "\t\t,Area \n",
      "\t\t,Region \n",
      "\t\t,SubRegion\n",
      "\t\t,Subsidiary\n",
      "        ,SubsidiaryID\n",
      "        ,CASE WHEN UnifiedPartnerKey = 2926514 THEN 'United States'\n",
      "        WHEN DSR.ResellerTPID IS NOT NULL THEN DSR.VOrgArea ELSE  DUP.VOrgArea END AS VOrgArea\n",
      "        ,CASE WHEN UnifiedPartnerKey = 2926514 THEN 'United States'\n",
      "        WHEN DSR.ResellerTPID IS NOT NULL THEN DSR.PartnerGlobalArea ELSE  DUP.PartnerGlobalArea END AS PartnerGlobalArea\n",
      "\t\t,CASE WHEN DSR.ResellerTPID IS NOT NULL THEN DSR.VOrgRegion ELSE DUP.VOrgRegion END AS VOrgRegion\n",
      "\t\t,CASE WHEN DSR.ResellerTPID IS NOT NULL THEN DSR.PartnerGlobalRegion ELSE DUP.PartnerGlobalRegion END AS PartnerGlobalRegion\n",
      "\t\t,CASE WHEN DSR.ResellerTPID IS NOT NULL THEN DSR.VOrgSubRegion ELSE DUP.VOrgSubRegion END AS VOrgSubRegion\n",
      "\t\t,CASE WHEN DSR.ResellerTPID IS NOT NULL THEN DSR.PartnerGlobalSubRegion ELSE DUP.PartnerGlobalSubRegion END AS PartnerGlobalSubRegion\n",
      "\t\t,CASE WHEN DSR.ResellerTPID IS NOT NULL THEN DSR.VOrgSubsidiary ELSE DUP.VOrgSubsidiary END AS VOrgSubsidiary\n",
      "\t\t,CASE WHEN DSR.ResellerTPID IS NOT NULL THEN DSR.PartnerGlobalSubsidiary ELSE DUP.PartnerGlobalSubsidiary END AS PartnerGlobalSubsidiary\n",
      "        ,CASE WHEN DSR.ResellerTPID IS NOT NULL THEN DSR.VOrgSubsidiaryID ELSE DUP.VOrgSubsidiaryID END AS VOrgSubsidiaryID\n",
      "        ,CASE WHEN DSR.ResellerTPID IS NOT NULL THEN DSR.PartnerGlobalSubsidiaryID ELSE DUP.PartnerGlobalSubsidiaryID END AS PartnerGlobalSubsidiaryID\n",
      "\t\t,IsPartnerMastered\n",
      "\t\t,IsPartnerAssociated\n",
      "\t\t,PCN\n",
      "        ,CASE WHEN SourceName='PCAccount' THEN IFNULL(DAT.PartnerID,-9999) ELSE IFNULL(DUP.SourceID,-9999) END AS PartnerID_Investment\n",
      "        ,CASE WHEN DUP.PartnerOrgType = 'Distributor' AND DUP.SourceName = 'MSSales' THEN GDG.ReportingDistributorName ELSE 'Others' END AS GlobalDistributorGrouping\n",
      "        ,CASE WHEN PDM.PartnerOneSubKey IS NOT NULL THEN 'Yes' ELSE 'No' END AS IsPDMManaged\n",
      "        ,CASE WHEN MAP.PartnerOneSubKey IS NOT NULL THEN 'Yes' ELSE 'No' END AS PartnerHasOpportunity\n",
      "        ,CASE WHEN HY.PartnerOneID IS NOT NULL THEN 'Yes' ELSE 'No' END AS IsHyperscaler\n",
      "        ,CASE WHEN C.VOrgID IS NOT NULL THEN 1 ELSE 0 END AS HasCloudCompetency\n",
      "        ,CASE WHEN PP.MPNID IS NOT NULL OR VP.VOrgPartnerID IS NOT NULL THEN 1 ELSE 0 END AS HasProfile\n",
      "        ,`IsLego-ITES` AS `IsLego-ITES`\n",
      "FROM OCPMart_Sales.DimUnifiedPartner_tmp DUP \n",
      "LEFT JOIN PDM_tmp PDM ON DUP.PartnerOneSubKey = PDM.PartnerOneSubKey \n",
      "LEFT JOIN MapOpptyPartner_tmp MAP ON DUP.PartnerOneSubKey = MAP.PartnerOneSubKey\n"
     ]
    }
   ],
   "source": [
    "print(docs[0].page_content)"
   ]
  },
  {
   "cell_type": "code",
   "execution_count": 24,
   "metadata": {},
   "outputs": [
    {
     "name": "stdout",
     "output_type": "stream",
     "text": [
      "The \"DimUnifiedPartner\" table is created using the following tables:\n",
      "1. DimUnifiedPartner_tmp\n",
      "2. PDM_tmp\n",
      "3. MapOpptyPartner_tmp\n"
     ]
    }
   ],
   "source": [
    "#Result\n",
    "result = qa(question)\n",
    "print(result['answer'])"
   ]
  },
  {
   "cell_type": "code",
   "execution_count": null,
   "metadata": {},
   "outputs": [],
   "source": []
  },
  {
   "cell_type": "code",
   "execution_count": null,
   "metadata": {},
   "outputs": [],
   "source": []
  }
 ],
 "metadata": {
  "kernelspec": {
   "display_name": "Python 3",
   "language": "python",
   "name": "python3"
  },
  "language_info": {
   "codemirror_mode": {
    "name": "ipython",
    "version": 3
   },
   "file_extension": ".py",
   "mimetype": "text/x-python",
   "name": "python",
   "nbconvert_exporter": "python",
   "pygments_lexer": "ipython3",
   "version": "3.11.5"
  },
  "orig_nbformat": 4
 },
 "nbformat": 4,
 "nbformat_minor": 2
}
