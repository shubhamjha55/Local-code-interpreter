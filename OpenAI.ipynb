{
 "cells": [
  {
   "cell_type": "code",
   "execution_count": 3,
   "metadata": {},
   "outputs": [],
   "source": [
    "import openai \n",
    "import tiktoken \n",
    "import chromadb \n",
    "import langchain"
   ]
  },
  {
   "cell_type": "code",
   "execution_count": 4,
   "metadata": {},
   "outputs": [],
   "source": [
    "from langchain.text_splitter import Language\n",
    "from langchain.document_loaders.generic import GenericLoader\n",
    "from langchain.document_loaders.parsers import LanguageParser"
   ]
  },
  {
   "cell_type": "code",
   "execution_count": 5,
   "metadata": {},
   "outputs": [
    {
     "data": {
      "text/plain": [
       "True"
      ]
     },
     "execution_count": 5,
     "metadata": {},
     "output_type": "execute_result"
    }
   ],
   "source": [
    "#API key\n",
    "import dotenv\n",
    "dotenv.load_dotenv()"
   ]
  },
  {
   "cell_type": "code",
   "execution_count": 6,
   "metadata": {},
   "outputs": [],
   "source": [
    "# Ropo Path\n",
    "repo_path = \"C:\\ProjectLFG\\calculadora-tk-master\""
   ]
  },
  {
   "cell_type": "code",
   "execution_count": 15,
   "metadata": {},
   "outputs": [
    {
     "data": {
      "text/plain": [
       "1"
      ]
     },
     "execution_count": 15,
     "metadata": {},
     "output_type": "execute_result"
    }
   ],
   "source": [
    "# Load\n",
    "loader = GenericLoader.from_filesystem(\n",
    "    repo_path,\n",
    "    glob=\"**/*\",\n",
    "    suffixes=[\".sql\"],\n",
    "    parser=LanguageParser(language=Language.PYTHON, parser_threshold=500)\n",
    ")\n",
    "documents = loader.load()\n",
    "len(documents)"
   ]
  },
  {
   "cell_type": "code",
   "execution_count": 13,
   "metadata": {},
   "outputs": [
    {
     "data": {
      "text/plain": [
       "12"
      ]
     },
     "execution_count": 13,
     "metadata": {},
     "output_type": "execute_result"
    }
   ],
   "source": [
    "#Split \n",
    "from langchain.text_splitter import RecursiveCharacterTextSplitter\n",
    "python_splitter = RecursiveCharacterTextSplitter.from_language(language=Language.PYTHON, \n",
    "                                                               chunk_size=2000, \n",
    "                                                               chunk_overlap=200)\n",
    "texts = python_splitter.split_documents(documents)\n",
    "len(texts)"
   ]
  },
  {
   "cell_type": "code",
   "execution_count": 14,
   "metadata": {},
   "outputs": [],
   "source": [
    "#Retrieve\n",
    "from langchain.vectorstores import Chroma\n",
    "from langchain.embeddings.openai import OpenAIEmbeddings\n",
    "db = Chroma.from_documents(texts, OpenAIEmbeddings(disallowed_special=()))\n",
    "retriever = db.as_retriever(\n",
    "    search_type=\"mmr\", # Also test \"similarity\"\n",
    "    search_kwargs={\"k\": 8},\n",
    ")"
   ]
  },
  {
   "cell_type": "code",
   "execution_count": 21,
   "metadata": {},
   "outputs": [],
   "source": [
    "# Set up Chat\n",
    "from langchain.chat_models import ChatOpenAI\n",
    "from langchain.memory import ConversationSummaryMemory\n",
    "from langchain.chains import ConversationalRetrievalChain\n",
    "llm = ChatOpenAI(model_name=\"gpt-3.5-turbo\") \n",
    "memory = ConversationSummaryMemory(llm=llm,memory_key=\"chat_history\",return_messages=True)\n",
    "qa = ConversationalRetrievalChain.from_llm(llm, retriever=retriever, memory=memory)"
   ]
  },
  {
   "cell_type": "code",
   "execution_count": 35,
   "metadata": {},
   "outputs": [
    {
     "name": "stderr",
     "output_type": "stream",
     "text": [
      "Number of requested results 20 is greater than number of elements in index 12, updating n_results = 12\n"
     ]
    },
    {
     "data": {
      "text/plain": [
       "'This application is a calculator implemented using the Tkinter library in Python. It provides a graphical user interface where users can perform basic mathematical calculations.\\n\\nThe main logic of the application is divided into three classes: `Calculadora`, `Calculador`, and `CalculadorValidation`.\\n\\nThe `Calculadora` class is responsible for creating the layout of the calculator, distributing the buttons, and adding their functionality. It initializes the Tkinter window and sets its properties such as title, size, and background color. It also creates two frames, one for the input area and one for the buttons area. The `Calculadora` class also loads the settings from the `settings.json` file, which includes information about the current theme of the calculator.\\n\\nThe `Calculador` class performs the actual calculations. It has a `calculation` method that takes a calculation expression as input and returns the result of the calculation. This method uses the `eval` function to evaluate the expression and handles possible errors such as division by zero or syntax errors. It also formats the result in scientific notation if it is too large.\\n\\nThe `CalculadorValidation` class is responsible for validating the calculation expression before performing the calculation. It checks if the expression is valid and handles errors such as invalid characters or incomplete expressions.\\n\\nThe application uses event handlers to respond to user interactions with the calculator buttons. Each button has a command assigned to it, which is a function that gets executed when the button is clicked. These functions use the methods of the `Calculadora` class to update the input field with the clicked button value or operator.\\n\\nThe application also includes a menu bar with configuration options. Users can change the theme of the calculator by selecting a different theme from the menu. The selected theme is saved in the `settings.json` file and the application is reloaded with the new theme.\\n\\nOverall, this application provides a user-friendly interface for performing basic mathematical calculations. It uses the Tkinter library to create the GUI, implements the calculation logic in the `Calculador` class, and allows users to customize the appearance of the calculator by changing themes.'"
      ]
     },
     "execution_count": 35,
     "metadata": {},
     "output_type": "execute_result"
    }
   ],
   "source": [
    "#Result\n",
    "question = \"Give me a detailed analysis of how this application works, include the appropriate code to explain the logic, and format it in a human understandable format\"\n",
    "result = qa(question)\n",
    "result['answer']"
   ]
  },
  {
   "cell_type": "code",
   "execution_count": 36,
   "metadata": {},
   "outputs": [
    {
     "name": "stdout",
     "output_type": "stream",
     "text": [
      "This application is a calculator implemented using the Tkinter library in Python. It provides a graphical user interface where users can perform basic mathematical calculations.\n",
      "\n",
      "The main logic of the application is divided into three classes: `Calculadora`, `Calculador`, and `CalculadorValidation`.\n",
      "\n",
      "The `Calculadora` class is responsible for creating the layout of the calculator, distributing the buttons, and adding their functionality. It initializes the Tkinter window and sets its properties such as title, size, and background color. It also creates two frames, one for the input area and one for the buttons area. The `Calculadora` class also loads the settings from the `settings.json` file, which includes information about the current theme of the calculator.\n",
      "\n",
      "The `Calculador` class performs the actual calculations. It has a `calculation` method that takes a calculation expression as input and returns the result of the calculation. This method uses the `eval` function to evaluate the expression and handles possible errors such as division by zero or syntax errors. It also formats the result in scientific notation if it is too large.\n",
      "\n",
      "The `CalculadorValidation` class is responsible for validating the calculation expression before performing the calculation. It checks if the expression is valid and handles errors such as invalid characters or incomplete expressions.\n",
      "\n",
      "The application uses event handlers to respond to user interactions with the calculator buttons. Each button has a command assigned to it, which is a function that gets executed when the button is clicked. These functions use the methods of the `Calculadora` class to update the input field with the clicked button value or operator.\n",
      "\n",
      "The application also includes a menu bar with configuration options. Users can change the theme of the calculator by selecting a different theme from the menu. The selected theme is saved in the `settings.json` file and the application is reloaded with the new theme.\n",
      "\n",
      "Overall, this application provides a user-friendly interface for performing basic mathematical calculations. It uses the Tkinter library to create the GUI, implements the calculation logic in the `Calculador` class, and allows users to customize the appearance of the calculator by changing themes.\n"
     ]
    }
   ],
   "source": [
    "#Expanded Results\n",
    "print(result['answer'])"
   ]
  },
  {
   "cell_type": "code",
   "execution_count": null,
   "metadata": {},
   "outputs": [],
   "source": []
  },
  {
   "cell_type": "code",
   "execution_count": null,
   "metadata": {},
   "outputs": [],
   "source": []
  }
 ],
 "metadata": {
  "kernelspec": {
   "display_name": "Python 3",
   "language": "python",
   "name": "python3"
  },
  "language_info": {
   "codemirror_mode": {
    "name": "ipython",
    "version": 3
   },
   "file_extension": ".py",
   "mimetype": "text/x-python",
   "name": "python",
   "nbconvert_exporter": "python",
   "pygments_lexer": "ipython3",
   "version": "3.11.5"
  },
  "orig_nbformat": 4
 },
 "nbformat": 4,
 "nbformat_minor": 2
}
