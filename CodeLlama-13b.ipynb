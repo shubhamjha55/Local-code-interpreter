{
 "cells": [
  {
   "cell_type": "code",
   "execution_count": 1,
   "metadata": {},
   "outputs": [],
   "source": [
    "import openai \n",
    "import tiktoken \n",
    "import chromadb \n",
    "import langchain"
   ]
  },
  {
   "cell_type": "code",
   "execution_count": 2,
   "metadata": {},
   "outputs": [],
   "source": [
    "from langchain.text_splitter import Language\n",
    "from langchain.document_loaders.generic import GenericLoader\n",
    "from langchain.document_loaders.parsers import LanguageParser"
   ]
  },
  {
   "cell_type": "code",
   "execution_count": 3,
   "metadata": {},
   "outputs": [],
   "source": [
    "# Ropo Path\n",
    "repo_path = \"./zepo\""
   ]
  },
  {
   "cell_type": "code",
   "execution_count": 6,
   "metadata": {},
   "outputs": [
    {
     "data": {
      "text/plain": [
       "8"
      ]
     },
     "execution_count": 6,
     "metadata": {},
     "output_type": "execute_result"
    }
   ],
   "source": [
    "# Load\n",
    "loader = GenericLoader.from_filesystem(\n",
    "    repo_path,\n",
    "    glob=\"**/*\",\n",
    "    suffixes=[\".sql\"],\n",
    "    parser=LanguageParser(language=Language.PYTHON, parser_threshold=500)\n",
    ")\n",
    "documents = loader.load()\n",
    "len(documents)"
   ]
  },
  {
   "cell_type": "code",
   "execution_count": 25,
   "metadata": {},
   "outputs": [
    {
     "data": {
      "text/plain": [
       "124"
      ]
     },
     "execution_count": 25,
     "metadata": {},
     "output_type": "execute_result"
    }
   ],
   "source": [
    "#Split \n",
    "from langchain.text_splitter import RecursiveCharacterTextSplitter\n",
    "python_splitter = RecursiveCharacterTextSplitter.from_language(language=Language.PYTHON, \n",
    "                                                               chunk_size=2000, \n",
    "                                                               chunk_overlap=200)\n",
    "texts = python_splitter.split_documents(documents)\n",
    "len(texts)"
   ]
  },
  {
   "cell_type": "markdown",
   "metadata": {},
   "source": [
    "Create the Embedding DB and persist it"
   ]
  },
  {
   "cell_type": "code",
   "execution_count": null,
   "metadata": {},
   "outputs": [],
   "source": [
    "#Persist Directory\n",
    "persist_directory = 'db'"
   ]
  },
  {
   "cell_type": "code",
   "execution_count": 26,
   "metadata": {},
   "outputs": [],
   "source": [
    "#Creating the Embeddings\n",
    "from langchain.vectorstores import Chroma\n",
    "from langchain.embeddings.openai import OpenAIEmbeddings #Can use any other like Huggingface's embedding\n",
    "\n",
    "embedding = OpenAIEmbeddings(disallowed_special=())\n",
    "db = Chroma.from_documents(documents=texts, \n",
    "                           embedding=embedding,\n",
    "                           persist_directory=persist_directory)\n",
    "#Created Embeddings in db successfully"
   ]
  },
  {
   "cell_type": "code",
   "execution_count": null,
   "metadata": {},
   "outputs": [],
   "source": [
    "# persiste the embedding DB to disk then delete it\n",
    "db.persist()\n",
    "db = None"
   ]
  },
  {
   "cell_type": "code",
   "execution_count": null,
   "metadata": {},
   "outputs": [],
   "source": [
    "# Now we can load the persisted database from disk, and use it as normal. \n",
    "db = Chroma(persist_directory=persist_directory, \n",
    "                  embedding_function=embedding)"
   ]
  },
  {
   "cell_type": "markdown",
   "metadata": {},
   "source": [
    "Setting Up Retriever"
   ]
  },
  {
   "cell_type": "code",
   "execution_count": null,
   "metadata": {},
   "outputs": [],
   "source": [
    "#Setting up Retriever\n",
    "retriever = db.as_retriever(\n",
    "    search_type=\"mmr\", # Also test \"similarity\"\n",
    "    search_kwargs={\"k\": 8}, # Number of relevant document to return\n",
    ")"
   ]
  },
  {
   "cell_type": "code",
   "execution_count": null,
   "metadata": {},
   "outputs": [],
   "source": [
    "#retrieving Relevant Documents\n",
    "ques = \"Who am I?\"\n",
    "relevant_documents = retriever.get_relevant_documents(ques)"
   ]
  },
  {
   "cell_type": "markdown",
   "metadata": {},
   "source": [
    "Setting up our Local Model"
   ]
  },
  {
   "cell_type": "code",
   "execution_count": 9,
   "metadata": {},
   "outputs": [],
   "source": [
    "from langchain.llms import LlamaCpp\n",
    "from langchain import PromptTemplate, LLMChain\n",
    "from langchain.callbacks.manager import CallbackManager\n",
    "from langchain.memory import ConversationSummaryMemory\n",
    "from langchain.chains import ConversationalRetrievalChain \n",
    "from langchain.callbacks.streaming_stdout import StreamingStdOutCallbackHandler"
   ]
  },
  {
   "cell_type": "code",
   "execution_count": 11,
   "metadata": {},
   "outputs": [],
   "source": [
    "model_path=\"C:\\ProjectLFG\\models\\codellama-13b-instruct.Q4_K_M.gguf\""
   ]
  },
  {
   "cell_type": "code",
   "execution_count": 12,
   "metadata": {},
   "outputs": [
    {
     "name": "stderr",
     "output_type": "stream",
     "text": [
      "AVX = 1 | AVX2 = 1 | AVX512 = 0 | AVX512_VBMI = 0 | AVX512_VNNI = 0 | FMA = 1 | NEON = 0 | ARM_FMA = 0 | F16C = 1 | FP16_VA = 0 | WASM_SIMD = 0 | BLAS = 0 | SSE3 = 1 | SSSE3 = 0 | VSX = 0 | \n"
     ]
    }
   ],
   "source": [
    "callback_manager = CallbackManager([StreamingStdOutCallbackHandler()])\n",
    "llm = LlamaCpp(\n",
    "    model_path=model_path,\n",
    "    n_ctx=5000,\n",
    "    n_gpu_layers=1,\n",
    "    n_batch=512,\n",
    "    f16_kv=True,\n",
    "    callback_manager=callback_manager,\n",
    "    verbose=True,\n",
    ")"
   ]
  },
  {
   "cell_type": "code",
   "execution_count": 14,
   "metadata": {},
   "outputs": [
    {
     "name": "stderr",
     "output_type": "stream",
     "text": [
      "Llama.generate: prefix-match hit\n"
     ]
    },
    {
     "name": "stdout",
     "output_type": "stream",
     "text": [
      " #AllProductTransactionFactTable\n",
      "1. The All Product Transaction Table is created by combining data from three fact tables (#SalesLine, #PurchaseLine and #TransferOrderLine) with an aggregate function of SumQuantitySold that uses the Unit Cost of Sale to calculate Average Cost.\n",
      "2. This table is used as a basis for calculations in the Supply Chain Management business process and is available for use in any reports in Supply Chain Management.\n",
      "3. It is also important to note that this table is not created with the intention to replace the other three fact tables (#SalesLine, #PurchaseLine and #TransferOrderLine). These tables will still be used as a basis for calculations in the Supply Chain Management business process but are now considered a summary of the data contained in each of those tables.\n",
      "4. The All Product Transaction Table can be compared to the Sales Order Lines table, which aggregates the data from the #SalesOrderLine table with an aggregate function that uses the Unit Cost of Sale to calculate Average Cost and is also used as a basis for calculations in the Supply Chain Management business process.\n",
      "5. The All Product Transaction"
     ]
    },
    {
     "data": {
      "text/plain": [
       "' #AllProductTransactionFactTable\\n1. The All Product Transaction Table is created by combining data from three fact tables (#SalesLine, #PurchaseLine and #TransferOrderLine) with an aggregate function of SumQuantitySold that uses the Unit Cost of Sale to calculate Average Cost.\\n2. This table is used as a basis for calculations in the Supply Chain Management business process and is available for use in any reports in Supply Chain Management.\\n3. It is also important to note that this table is not created with the intention to replace the other three fact tables (#SalesLine, #PurchaseLine and #TransferOrderLine). These tables will still be used as a basis for calculations in the Supply Chain Management business process but are now considered a summary of the data contained in each of those tables.\\n4. The All Product Transaction Table can be compared to the Sales Order Lines table, which aggregates the data from the #SalesOrderLine table with an aggregate function that uses the Unit Cost of Sale to calculate Average Cost and is also used as a basis for calculations in the Supply Chain Management business process.\\n5. The All Product Transaction'"
      ]
     },
     "execution_count": 14,
     "metadata": {},
     "output_type": "execute_result"
    }
   ],
   "source": [
    "#Standard format\n",
    "llm('''Question: Only list the tables that are being used to create the table \"#AllProductTransactionsNoCalculation\"? Answer:''')"
   ]
  },
  {
   "cell_type": "code",
   "execution_count": 18,
   "metadata": {},
   "outputs": [],
   "source": [
    "from langchain.chains.question_answering import load_qa_chain\n",
    "\n",
    "# Prompt\n",
    "template = \"\"\"Use the following pieces of context to answer the question at the end. \n",
    "If you don't know the answer, just say that you don't know, don't try to make up an answer. \n",
    "Use three sentences maximum and keep the answer as concise as possible. \n",
    "{context}\n",
    "Question: {question}\n",
    "Helpful Answer:\"\"\"\n",
    "#template = prompt_format()\n",
    "QA_CHAIN_PROMPT = PromptTemplate(\n",
    "    input_variables=[\"context\", \"question\"],\n",
    "    template=template,\n",
    ")"
   ]
  },
  {
   "cell_type": "code",
   "execution_count": 27,
   "metadata": {},
   "outputs": [],
   "source": [
    "# #retrieving Relevant Documents for question\n",
    "question = '''List all the subdependent tables for the table #AllProductTransactionsNoCalculation'''\n",
    "docs = retriever.get_relevant_documents(question)"
   ]
  },
  {
   "cell_type": "code",
   "execution_count": 28,
   "metadata": {},
   "outputs": [
    {
     "data": {
      "text/plain": [
       "[Document(page_content='AND @RevRecEndDate\\n\\t\\t\\t\\tINNER JOIN [mss].[PricingLevelHierarchy] PLH WITH (NOLOCK)\\n\\t\\t\\t\\t\\tON VT.[DetailPricingLevelID] = PLH.[DetailPricingLevelID]\\n\\t\\t\\t\\tINNER JOIN [dbo].[AddonOpportunityProduct] OP WITH (NOLOCK)\\n\\t\\t\\t\\t\\tON OP.[OpportunityKey] = TP.[OpportunityKey]\\n\\t\\t\\t\\t\\t\\tAND OP.[ProductKey] = TP.[ProductKey]\\n\\t\\t\\tEND\\n\\t\\tEND\\n\\t\\tELSE \\n\\t\\tBEGIN\\n\\t\\t\\tINSERT INTO #AllProductTransactionsNoCalculation\\n\\t\\t\\tSELECT TP.[OpportunityKey]\\n\\t\\t\\t\\t, VT.[SubscriptionID]\\n\\t\\t\\t\\t, TP.[TenantID]\\n\\t\\t\\t\\t, TP.[AgreementID]\\n\\t\\t\\t\\t, TP.[OrgID]\\n\\t\\t\\t\\t, TP.[ProductID]\\n\\t\\t\\t\\t, TP.[ProductKey]\\n\\t\\t\\t\\t, VT.[SalesDate]\\n\\t\\t\\t\\t, VT.[OriginalPurchaseAmount]\\n\\t\\t\\t\\t, VT.[LicenseTransactionItemId]\\n\\t\\t\\t\\t, VT.[RevSumCategoryID]\\n\\t\\t\\t\\t, OP.[ExtendedAmount]\\n\\t\\t\\tFROM (\\n\\t\\t\\t\\tSELECT DISTINCT [ProductID]\\n\\t\\t\\t\\t\\t, [OpportunityKey]\\n\\t\\t\\t\\t\\t, [SubscriptionID]\\n\\t\\t\\t\\t\\t, [TenantID]\\n\\t\\t\\t\\t\\t, [AgreementID]\\n\\t\\t\\t\\t\\t, [OrgID]\\n\\t\\t\\t\\t\\t, [ProductKey]\\n\\t\\t\\t\\tFROM #CurrentMOSPOpportunities OPPTY\\n\\t\\t\\t\\tWHERE [Priority] = @CurrentPriority\\n\\t\\t\\t\\t) TP\\n\\t\\t\\tINNER JOIN #AllValidTransactions VT\\n\\t\\t\\t\\tON VT.[ProductID] = TP.[ProductID]\\n\\t\\t\\t\\t\\tAND (\\n\\t\\t\\t\\t\\t\\tVT.[SubscriptionID] = TP.[SubscriptionID]\\n\\t\\t\\t\\t\\t\\tOR VT.[OrgID] = TP.[OrgID]\\n\\t\\t\\t\\t\\t\\tOR VT.[AgreementID] = TP.[AgreementID]\\n\\t\\t\\t\\t\\t\\t)\\n\\t\\t\\t\\t\\tAND VT.[SalesDate] BETWEEN @RevRecStartDate\\n\\t\\t\\t\\t\\t\\tAND @RevRecEndDate\\n\\t\\t\\tINNER JOIN [mss].[PricingLevelHierarchy] PLH WITH (NOLOCK)\\n\\t\\t\\t\\tON VT.[DetailPricingLevelID] = PLH.[DetailPricingLevelID]\\n\\t\\t\\tINNER JOIN [dbo].[AddonOpportunityProduct] OP WITH (NOLOCK)\\n\\t\\t\\t\\tON OP.[OpportunityKey] = TP.[OpportunityKey]\\n\\t\\t\\t\\t\\tAND OP.[ProductKey] = TP.[ProductKey]\\n\\t\\tEND\\n\\tEND\\nEND', metadata={'language': 'python', 'source': 'zepo\\\\uspApplyAnnualizedRevenueCheckRVTAddonMOSP.sql'}),\n",
       " Document(page_content=\"IF @OpportunityLicenseProgram = 'OSSA'\\n\\t\\t\\tBEGIN\\n\\t\\t\\t\\tINSERT INTO #AllProductTransactionsNoCalculation\\n\\t\\t\\t\\tSELECT TP.[OpportunityKey]\\n\\t\\t\\t\\t, VT.[SubscriptionID]\\n\\t\\t\\t\\t, TP.[TenantID]\\n\\t\\t\\t\\t, TP.[AgreementID]\\n\\t\\t\\t\\t, TP.[OrgID]\\n\\t\\t\\t\\t, TP.[ProductID]\\n\\t\\t\\t\\t, TP.[ProductKey]\\n\\t\\t\\t\\t, VT.[SalesDate]\\n\\t\\t\\t\\t, VT.[OriginalPurchaseAmount]\\n\\t\\t\\t\\t, VT.[LicenseTransactionItemId]\\n\\t\\t\\t\\t, VT.[RevSumCategoryID]\\n\\t\\t\\t\\t, OP.[ExtendedAmount]\\n\\t\\t\\t\\tFROM (\\n\\t\\t\\t\\t\\tSELECT DISTINCT [ProductID]\\n\\t\\t\\t\\t\\t\\t, [OpportunityKey]\\n\\t\\t\\t\\t\\t\\t, [SubscriptionID]\\n\\t\\t\\t\\t\\t\\t, [TenantID]\\n\\t\\t\\t\\t\\t\\t, [AgreementID]\\n\\t\\t\\t\\t\\t\\t, [OrgID]\\n\\t\\t\\t\\t\\t\\t, [ProductKey]\\n\\t\\t\\t\\t\\tFROM #CurrentMOSPOpportunities OPPTY\\n\\t\\t\\t\\t\\tWHERE [Priority] = @CurrentPriority\\n\\t\\t\\t\\t\\t) TP\\n\\t\\t\\t\\tINNER JOIN #AllValidTransactions VT\\n\\t\\t\\t\\t\\tON VT.[ProductID] = TP.[ProductID]\\n\\t\\t\\t\\t\\t\\tAND (\\n\\t\\t\\t\\t\\t\\t\\tVT.[SubscriptionID] = TP.[SubscriptionID]\\n\\t\\t\\t\\t\\t\\t\\tOR VT.[OrgID] = TP.[OrgID]\\n\\t\\t\\t\\t\\t\\t\\tOR VT.[AgreementID] = TP.[AgreementID]\\n\\t\\t\\t\\t\\t\\t\\t)\\n\\t\\t\\t\\t\\t\\tAND VT.[SalesDate] BETWEEN @RevRecStartDate\\n\\t\\t\\t\\t\\t\\t\\tAND @RevRecEndDate\\n\\t\\t\\t\\tINNER JOIN [dbo].[ProductHierarchy] PH WITH (NOLOCK)\\n\\t\\t\\t\\t\\tON PH.[ProductID] = VT.[ProductID]\\n\\t\\t\\t\\t\\tAND PH.[ProductFamilyName] = 'Azure China Web Direct'\\n\\t\\t\\t\\tINNER JOIN [dbo].[AddonOpportunityProduct] OP WITH (NOLOCK)\\n\\t\\t\\t\\t\\tON OP.[OpportunityKey] = TP.[OpportunityKey]\\n\\t\\t\\t\\t\\t\\tAND OP.[ProductKey] = TP.[ProductKey]\\n\\t\\t\\tEND\\n\\t\\t\\tELSE\\n\\t\\t\\tBEGIN\\n\\t\\t\\t\\tINSERT INTO #AllProductTransactionsNoCalculation\\n\\t\\t\\t\\tSELECT TP.[OpportunityKey]\\n\\t\\t\\t\\t, VT.[SubscriptionID]\\n\\t\\t\\t\\t, TP.[TenantID]\\n\\t\\t\\t\\t, TP.[AgreementID]\\n\\t\\t\\t\\t, TP.[OrgID]\\n\\t\\t\\t\\t, TP.[ProductID]\\n\\t\\t\\t\\t, TP.[ProductKey]\\n\\t\\t\\t\\t, VT.[SalesDate]\\n\\t\\t\\t\\t, VT.[OriginalPurchaseAmount]\\n\\t\\t\\t\\t, VT.[LicenseTransactionItemId]\\n\\t\\t\\t\\t, VT.[RevSumCategoryID]\\n\\t\\t\\t\\t, OP.[ExtendedAmount]\\n\\t\\t\\t\\tFROM (\\n\\t\\t\\t\\t\\tSELECT DISTINCT [ProductID]\\n\\t\\t\\t\\t\\t\\t, [OpportunityKey]\\n\\t\\t\\t\\t\\t\\t, [SubscriptionID]\\n\\t\\t\\t\\t\\t\\t, [TenantID]\\n\\t\\t\\t\\t\\t\\t, [AgreementID]\\n\\t\\t\\t\\t\\t\\t, [OrgID]\\n\\t\\t\\t\\t\\t\\t, [ProductKey]\\n\\t\\t\\t\\t\\tFROM #CurrentMOSPOpportunities OPPTY\\n\\t\\t\\t\\t\\tWHERE [Priority] = @CurrentPriority\\n\\t\\t\\t\\t\\t) TP\\n\\t\\t\\t\\tINNER JOIN #AllValidTransactions VT\\n\\t\\t\\t\\t\\tON VT.[ProductID] = TP.[ProductID]\\n\\t\\t\\t\\t\\t\\tAND (\\n\\t\\t\\t\\t\\t\\t\\tVT.[SubscriptionID] = TP.[SubscriptionID]\\n\\t\\t\\t\\t\\t\\t\\tOR VT.[OrgID] = TP.[OrgID]\\n\\t\\t\\t\\t\\t\\t\\tOR VT.[AgreementID] = TP.[AgreementID]\\n\\t\\t\\t\\t\\t\\t\\t)\\n\\t\\t\\t\\t\\t\\tAND VT.[SalesDate] BETWEEN @RevRecStartDate\\n\\t\\t\\t\\t\\t\\t\\tAND @RevRecEndDate\\n\\t\\t\\t\\tINNER JOIN [mss].[PricingLevelHierarchy] PLH WITH (NOLOCK)\\n\\t\\t\\t\\t\\tON VT.[DetailPricingLevelID] = PLH.[DetailPricingLevelID]\\n\\t\\t\\t\\tINNER JOIN [dbo].[AddonOpportunityProduct] OP WITH (NOLOCK)\\n\\t\\t\\t\\t\\tON OP.[OpportunityKey] = TP.[OpportunityKey]\", metadata={'language': 'python', 'source': 'zepo\\\\uspApplyAnnualizedRevenueCheckRVTAddonMOSP.sql'}),\n",
       " Document(page_content=\"--Multiproduct Opportunities\\n\\tDROP TABLE IF EXISTS #MultiProductOpportunities\\n\\tSELECT EO.[OpportunityID], EO.[OpportunityKey]\\n\\tINTO #MultiProductOpportunities\\n\\tFROM [dbo].[EligibleOpportunities] EO WITH (NOLOCK)\\n\\tINNER JOIN [dbo].[OpportunityProduct] OP WITH (NOLOCK)\\n\\t\\tON EO.[OpportunityKey] = OP.[OpportunityKey]\\n\\t\\tAND OP.ExtendedAmount > 0\\n\\tINNER JOIN [dbo].[Product] P WITH (NOLOCK)\\n\\t\\tON OP.[ProductKey] = P.[ProductKey]\\n\\tGROUP BY EO.[OpportunityID], EO.[OpportunityKey]\\n\\tHAVING COUNT(DISTINCT P.[ProductFamily]) > 1\\n\\n\\n\\n\\tDROP TABLE IF EXISTS #MultiProductTransactions\\n\\tSELECT DISTINCT TVT.[OpportunityID]\\n\\t\\t, TVT.[LicenseTransactionItemId]\\n\\t\\t, TVT.[TPID]\\n\\t\\t, TVT.[OrgID]\\n\\t\\t, TVT.[AgreementID]\\n\\t\\t, TVT.[ProductID]\\n\\t\\t, TVT.[SubscriptionID]\\n\\t\\t, TVT.[SalesDate]\\n\\t\\t, TVT.[SalesDateID]\\n\\t\\t, TVT.[BillingCoverageStartDate]\\n\\t\\t, TVT.[BillingCoverageEndDate]\\n\\t\\t, TVT.[BillingCoverageDays]\\n\\t\\t, TVT.[OriginalPurchaseAmount]\\n\\t\\t, (TVT.[OriginalPurchaseAmount] / IIF(CHARINDEX( 'Open', \\xa0P.[ProgramName] ) > 0 AND TVT.[BillingCoverageDays] > 365, 365, TVT.[BillingCoverageDays])) * 365 AS [AnnualizedRevenue]\\n\\tINTO #MultiProductTransactions\\n\\tFROM #TempValidTransactions TVT\\n\\tINNER JOIN #MultiProductOpportunities MPO\\n\\t\\tON TVT.[OpportunityID] = MPO.[OpportunityID]\\n\\tINNER JOIN [mss].[Program] P WITH (NOLOCK)\\n\\t\\tON P.[ProgramId] = TVT.[ProgramID]\\n\\n\\t--Get the Aggregated revenue generated from all subscription and products for opportunity and salesdate\\n\\tDROP TABLE IF EXISTS #AggregatedMultiProductTransactions\\n\\tSELECT MPT.[OpportunityID]\\n\\t\\t, MPT.[SalesDate]\\n\\t\\t, SUM(MPT.[AnnualizedRevenue]) AS [AggregatedAmount]\\n\\tINTO #AggregatedMultiProductTransactions\\n\\tFROM #MultiProductTransactions MPT\\n\\tGROUP BY MPT.[OpportunityID]\\n\\t\\t, MPT.[SalesDate]\\n\\n\\t--Populate identifiers that less than annualized revenue on same salesdate\\n\\tDROP TABLE IF EXISTS #InEligibleTransactions\\n\\tSELECT DISTINCT MPT.[OpportunityID]\\n\\t\\t, MPT.[TPID]\\n\\t\\t, MPT.[ProductID]\\n\\t\\t, MPT.[AgreementID]\\n\\t\\t, MPT.[SubscriptionID]\\n\\t\\t, MPT.[SalesDateID]\\n\\t\\t, AMT.[AggregatedAmount]\\n\\tINTO #InEligibleTransactions\\n\\tFROM #AggregatedMultiProductTransactions AMT\\n\\tINNER JOIN #MultiProductTransactions MPT \\n\\t\\tON AMT.[OpportunityID] = MPT.[OpportunityID]\\n\\t\\t\\tAND AMT.[SalesDate] = MPT.[SalesDate]\\n\\t\\t\\tAND AMT.[AggregatedAmount] < @AnnualizedRevenueThreshold\\n\\tLEFT JOIN #PowerAppsOppty PAO\\n\\t\\tON AMT.OpportunityID = PAO.OpportunityID\\n\\tWHERE PAO.OpportunityID IS NULL\\n\\n\\tUNION ALL\\n\\n\\tSELECT DISTINCT MPT.[OpportunityID]\\n\\t\\t, MPT.[TPID]\\n\\t\\t, MPT.[ProductID]\\n\\t\\t, MPT.[AgreementID]\\n\\t\\t, MPT.[SubscriptionID]\\n\\t\\t, MPT.[SalesDateID]\\n\\t\\t, AMT.[AggregatedAmount]\\n\\tFROM #AggregatedMultiProductTransactions AMT\\n\\tINNER JOIN #MultiProductTransactions MPT \\n\\t\\tON AMT.[OpportunityID] = MPT.[OpportunityID]\\n\\t\\t\\tAND AMT.[SalesDate] = MPT.[SalesDate]\\n\\t\\t\\tAND AMT.[AggregatedAmount] < @AnnualizedPPRevenueThreshold\\n\\tINNER JOIN #PowerAppsOppty PAO\\n\\t\\tON AMT.OpportunityID = PAO.OpportunityID\", metadata={'source': 'zepo\\\\uspAssignTransactionsToOpportunities.sql'}),\n",
       " Document(page_content=\"UNION ALL\\n\\n\\tSELECT T.[TPID]\\n\\t\\t, NULL AS [ProductID]\\n\\t\\t, T.[AgreementID]\\n\\t\\t, T.[SubscriptionID]\\n\\t\\t, T.[TransactionGroup]\\n\\t\\t, A.[AggregatedAmount]\\n\\tFROM #IndirectAnnualNonAzureTransactions T\\n\\tINNER JOIN #Bundled A\\n\\t\\tON T.[TPID] = A.[TPID]\\n\\t\\t\\tAND T.[AgreementID] = A.[AgreementID]\\n\\t\\t\\tAND T.[SubscriptionID] = A.[SubscriptionID]\\n\\t\\t\\tAND T.[TransactionGroup] = A.[TransactionGroup]\\n\\t\\t\\tAND T.[OpportunityID] = A.[OpportunityID]\\n\\t\\t\\tAND A.[AggregatedAmount] >= @AnnualizedPPRevenueThreshold\\n\\tINNER JOIN #PowerAppsOppty PAO\\n\\t\\tON PAO.[OpportunityID] = T.[OpportunityID]\\n\\n\\tDELETE VT\\n\\tFROM #TempValidTransactions VT\\n\\tINNER JOIN #IndirectAnnualNonAzureTransactions T\\n\\t\\tON VT.[TPID] = T.[TPID]\\n\\t\\t\\tAND VT.[ProductID] = T.[ProductID]\\n\\t\\t\\tAND VT.[LicenseTransactionItemId] = T.[LicenseTransactionItemId]\\n\\t\\t\\tAND VT.[AgreementID] = T.[AgreementID]\\n\\t\\t\\tAND VT.[SalesDateID] = T.[SalesDateID]\\n\\t\\t\\tAND VT.[OpportunityID] = T.[OpportunityID]\\n\\tINNER JOIN [dbo].[RVTAddonOpportunity] O WITH (NOLOCK)\\n\\t\\tON VT.[OpportunityKey] = O.[OpportunityKey]\\n\\t\\t\\tAND O.[ActualBilledCloseDate] >= @AnnualizedRevenueCheckDate\\n\\n\\tDROP TABLE IF EXISTS #TransactionsWithoutSubscription\\n\\tSELECT FIA.[OpportunityID]\\n\\t\\t, FIA.[LicenseTransactionItemId]\\n\\t\\t, FIA.[TPID]\\n\\t\\t, FIA.[OrgID]\\n\\t\\t, FIA.[ProductID]\\n\\t\\t, FIA.[AgreementID]\\n\\t\\t, FIA.[BillingCoverageStartDate]\\n\\t\\t, FIA.[BillingCoverageEndDate]\\n\\t\\t, FIA.[BillingCoverageDays]\\n\\t\\t, FIA.[SalesDateID]\\n\\t\\t, FIA.[SalesDate]\\n\\t\\t, FIA.[ProgramID]\\n\\t\\t, FIA.[RevSumCategoryID]\\n\\t\\t, (FIA.[OriginalPurchaseAmount] / FIA.[BillingCoverageDays]) AS [PerDayRevenue]\\n\\t\\t, (FIA.[OriginalPurchaseAmount] / IIF(CHARINDEX( 'Open', \\xa0P.[ProgramName] ) > 0 AND FIA.[BillingCoverageDays] > 365, 365, FIA.[BillingCoverageDays])) * 365 AS [AnnualizedRevenue]\\n\\tINTO #TransactionsWithoutSubscription\\n\\tFROM #TempValidTransactions FIA\\n\\tINNER JOIN [mss].[Program] P WITH (NOLOCK)\\n\\t\\tON P.[ProgramId] = FIA.[ProgramID]\\n\\tWHERE FIA.[SubscriptionID] IS NULL\\n\\t\\n\\tDROP TABLE IF EXISTS #NonAzureTransactions\\n\\tSELECT FIA.[OpportunityID]\\n\\t\\t, FIA.[LicenseTransactionItemId]\\n\\t\\t, FIA.[TPID]\\n\\t\\t, FIA.[OrgID]\\n\\t\\t, FIA.[ProductID]\\n\\t\\t, FIA.[AgreementID]\\n\\t\\t, FIA.[BillingCoverageStartDate]\\n\\t\\t, FIA.[BillingCoverageEndDate]\\n\\t\\t, FIA.[BillingCoverageDays]\\n\\t\\t, FIA.[SalesDateID]\\n\\t\\t, FIA.[SalesDate]\\n\\t\\t, FIA.[ProgramID]\\n\\t\\t, FIA.[RevSumCategoryID]\\n\\t\\t, FIA.[PerDayRevenue]\\n\\t\\t, FIA.[AnnualizedRevenue]\\n\\tINTO #NonAzureTransactions\\n\\tFROM #TransactionsWithoutSubscription FIA\", metadata={'source': 'zepo\\\\uspAssignTransactionsToRVTAddonOpportunities.sql'})]"
      ]
     },
     "execution_count": 28,
     "metadata": {},
     "output_type": "execute_result"
    }
   ],
   "source": [
    "docs"
   ]
  },
  {
   "cell_type": "code",
   "execution_count": 1,
   "metadata": {},
   "outputs": [
    {
     "ename": "NameError",
     "evalue": "name 'load_qa_chain' is not defined",
     "output_type": "error",
     "traceback": [
      "\u001b[1;31m---------------------------------------------------------------------------\u001b[0m",
      "\u001b[1;31mNameError\u001b[0m                                 Traceback (most recent call last)",
      "\u001b[1;32mc:\\ProjectLFG\\CodeLlama-13b.ipynb Cell 16\u001b[0m line \u001b[0;36m2\n\u001b[0;32m      <a href='vscode-notebook-cell:/c%3A/ProjectLFG/CodeLlama-13b.ipynb#X21sZmlsZQ%3D%3D?line=0'>1</a>\u001b[0m \u001b[39m# Chain\u001b[39;00m\n\u001b[1;32m----> <a href='vscode-notebook-cell:/c%3A/ProjectLFG/CodeLlama-13b.ipynb#X21sZmlsZQ%3D%3D?line=1'>2</a>\u001b[0m chain \u001b[39m=\u001b[39m load_qa_chain(llm, chain_type\u001b[39m=\u001b[39m\u001b[39m\"\u001b[39m\u001b[39mstuff\u001b[39m\u001b[39m\"\u001b[39m, prompt\u001b[39m=\u001b[39mQA_CHAIN_PROMPT)\n",
      "\u001b[1;31mNameError\u001b[0m: name 'load_qa_chain' is not defined"
     ]
    }
   ],
   "source": [
    "# Chain\n",
    "chain = load_qa_chain(llm, chain_type=\"stuff\", prompt=QA_CHAIN_PROMPT)"
   ]
  },
  {
   "cell_type": "code",
   "execution_count": 29,
   "metadata": {},
   "outputs": [
    {
     "name": "stderr",
     "output_type": "stream",
     "text": [
      "Llama.generate: prefix-match hit\n"
     ]
    }
   ],
   "source": [
    "# Run\n",
    "chain({\"input_documents\": docs, \"question\": question}, return_only_outputs=True)"
   ]
  },
  {
   "cell_type": "code",
   "execution_count": null,
   "metadata": {},
   "outputs": [],
   "source": []
  },
  {
   "cell_type": "code",
   "execution_count": null,
   "metadata": {},
   "outputs": [],
   "source": []
  },
  {
   "cell_type": "code",
   "execution_count": null,
   "metadata": {},
   "outputs": [],
   "source": []
  },
  {
   "cell_type": "markdown",
   "metadata": {},
   "source": [
    "Deleteing the DB\n",
    "DO NOT PROCEED\n",
    "https://colab.research.google.com/drive/1gyGZn_LZNrYXYXa-pltFExbptIe7DAPe?usp=sharing#scrollTo=RWulTG0eKCfk"
   ]
  },
  {
   "cell_type": "code",
   "execution_count": null,
   "metadata": {},
   "outputs": [],
   "source": [
    "zip -r db.zip ./db"
   ]
  },
  {
   "cell_type": "code",
   "execution_count": null,
   "metadata": {},
   "outputs": [],
   "source": [
    "# To cleanup, you can delete the collection\n",
    "db.delete_collection()\n",
    "db.persist()\n",
    "\n",
    "# delete the directory\n",
    "rm -rf db/"
   ]
  }
 ],
 "metadata": {
  "kernelspec": {
   "display_name": "Python 3",
   "language": "python",
   "name": "python3"
  },
  "language_info": {
   "codemirror_mode": {
    "name": "ipython",
    "version": 3
   },
   "file_extension": ".py",
   "mimetype": "text/x-python",
   "name": "python",
   "nbconvert_exporter": "python",
   "pygments_lexer": "ipython3",
   "version": "3.11.5"
  },
  "orig_nbformat": 4
 },
 "nbformat": 4,
 "nbformat_minor": 2
}
