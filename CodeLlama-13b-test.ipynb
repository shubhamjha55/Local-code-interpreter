{
 "cells": [
  {
   "cell_type": "code",
   "execution_count": 16,
   "metadata": {},
   "outputs": [],
   "source": [
    "import openai \n",
    "import tiktoken \n",
    "import chromadb \n",
    "import langchain"
   ]
  },
  {
   "cell_type": "code",
   "execution_count": 17,
   "metadata": {},
   "outputs": [],
   "source": [
    "from langchain.custom_text_splitter import Language\n",
    "from langchain.document_loaders.generic import GenericLoader\n",
    "from langchain.document_loaders.parsers import LanguageParser"
   ]
  },
  {
   "cell_type": "code",
   "execution_count": 18,
   "metadata": {},
   "outputs": [],
   "source": [
    "# Ropo Path\n",
    "repo_path = \"./zepo\""
   ]
  },
  {
   "cell_type": "code",
   "execution_count": 19,
   "metadata": {},
   "outputs": [
    {
     "data": {
      "text/plain": [
       "8"
      ]
     },
     "execution_count": 19,
     "metadata": {},
     "output_type": "execute_result"
    }
   ],
   "source": [
    "# Load\n",
    "loader = GenericLoader.from_filesystem(\n",
    "    repo_path,\n",
    "    glob=\"**/*\",\n",
    "    suffixes=[\".sql\"],\n",
    "    parser=LanguageParser(parser_threshold=500)\n",
    ")\n",
    "documents = loader.load()\n",
    "len(documents)"
   ]
  },
  {
   "cell_type": "code",
   "execution_count": 20,
   "metadata": {},
   "outputs": [
    {
     "data": {
      "text/plain": [
       "154"
      ]
     },
     "execution_count": 20,
     "metadata": {},
     "output_type": "execute_result"
    }
   ],
   "source": [
    "#Split \n",
    "from langchain.custom_text_splitter import RecursiveCharacterTextSplitter\n",
    "python_splitter = RecursiveCharacterTextSplitter.from_language( language=Language.SQL, \n",
    "                                                               chunk_size=2000, \n",
    "                                                               chunk_overlap=200)\n",
    "texts = python_splitter.split_documents(documents)\n",
    "len(texts)"
   ]
  },
  {
   "cell_type": "code",
   "execution_count": 21,
   "metadata": {},
   "outputs": [],
   "source": [
    "#Retrieve\n",
    "from langchain.vectorstores import Chroma\n",
    "from langchain.embeddings.openai import OpenAIEmbeddings\n",
    "db = Chroma.from_documents(texts, OpenAIEmbeddings(disallowed_special=()))\n",
    "retriever = db.as_retriever(\n",
    "    search_type=\"mmr\", # Also test \"similarity\"\n",
    "    search_kwargs={\"k\": 8}, #search of different chunks for our query\n",
    ")"
   ]
  },
  {
   "cell_type": "code",
   "execution_count": 22,
   "metadata": {},
   "outputs": [],
   "source": [
    "from langchain.llms import LlamaCpp\n",
    "from langchain import PromptTemplate, LLMChain\n",
    "from langchain.callbacks.manager import CallbackManager\n",
    "from langchain.memory import ConversationSummaryMemory\n",
    "from langchain.chains import ConversationalRetrievalChain \n",
    "from langchain.callbacks.streaming_stdout import StreamingStdOutCallbackHandler"
   ]
  },
  {
   "cell_type": "code",
   "execution_count": 23,
   "metadata": {},
   "outputs": [],
   "source": [
    "model_path=\"C:\\ProjectLFG\\models\\codellama-13b-instruct.Q4_K_M.gguf\""
   ]
  },
  {
   "cell_type": "code",
   "execution_count": 27,
   "metadata": {},
   "outputs": [
    {
     "name": "stderr",
     "output_type": "stream",
     "text": [
      "AVX = 1 | AVX2 = 1 | AVX512 = 0 | AVX512_VBMI = 0 | AVX512_VNNI = 0 | FMA = 1 | NEON = 0 | ARM_FMA = 0 | F16C = 1 | FP16_VA = 0 | WASM_SIMD = 0 | BLAS = 0 | SSE3 = 1 | SSSE3 = 0 | VSX = 0 | \n"
     ]
    }
   ],
   "source": [
    "callback_manager = CallbackManager([StreamingStdOutCallbackHandler()])\n",
    "llm = LlamaCpp(\n",
    "    model_path=model_path,\n",
    "    n_ctx=5000,\n",
    "    n_gpu_layers=1,\n",
    "    n_batch=512,\n",
    "    f16_kv=True,\n",
    "    callback_manager=callback_manager,\n",
    "    verbose=True,\n",
    ")"
   ]
  },
  {
   "cell_type": "code",
   "execution_count": 24,
   "metadata": {},
   "outputs": [],
   "source": [
    "# Question\n",
    "question = '''List all the subdependent tables for the table #AllProductTransactionsNoCalculation'''\n",
    "docs = retriever.get_relevant_documents(question)"
   ]
  },
  {
   "cell_type": "code",
   "execution_count": 25,
   "metadata": {},
   "outputs": [
    {
     "data": {
      "text/plain": [
       "[Document(page_content=\"IF @OpportunityLicenseProgram = 'OSSA'\\n\\t\\t\\tBEGIN\\n\\t\\t\\t\\tINSERT INTO #AllProductTransactionsNoCalculation\\n\\t\\t\\t\\tSELECT TP.[OpportunityKey]\\n\\t\\t\\t\\t, VT.[SubscriptionID]\\n\\t\\t\\t\\t, TP.[TenantID]\\n\\t\\t\\t\\t, TP.[AgreementID]\\n\\t\\t\\t\\t, TP.[OrgID]\\n\\t\\t\\t\\t, TP.[ProductID]\\n\\t\\t\\t\\t, TP.[ProductKey]\\n\\t\\t\\t\\t, VT.[SalesDate]\\n\\t\\t\\t\\t, VT.[OriginalPurchaseAmount]\\n\\t\\t\\t\\t, VT.[LicenseTransactionItemId]\\n\\t\\t\\t\\t, VT.[RevSumCategoryID]\\n\\t\\t\\t\\t, OP.[ExtendedAmount]\\n\\t\\t\\t\\tFROM (\\n\\t\\t\\t\\t\\tSELECT DISTINCT [ProductID]\\n\\t\\t\\t\\t\\t\\t, [OpportunityKey]\\n\\t\\t\\t\\t\\t\\t, [SubscriptionID]\\n\\t\\t\\t\\t\\t\\t, [TenantID]\\n\\t\\t\\t\\t\\t\\t, [AgreementID]\\n\\t\\t\\t\\t\\t\\t, [OrgID]\\n\\t\\t\\t\\t\\t\\t, [ProductKey]\\n\\t\\t\\t\\t\\tFROM #CurrentMOSPOpportunities OPPTY\\n\\t\\t\\t\\t\\tWHERE [Priority] = @CurrentPriority\\n\\t\\t\\t\\t\\t) TP\\n\\t\\t\\t\\tINNER JOIN #AllValidTransactions VT\\n\\t\\t\\t\\t\\tON VT.[ProductID] = TP.[ProductID]\\n\\t\\t\\t\\t\\t\\tAND (\\n\\t\\t\\t\\t\\t\\t\\tVT.[SubscriptionID] = TP.[SubscriptionID]\\n\\t\\t\\t\\t\\t\\t\\tOR VT.[OrgID] = TP.[OrgID]\\n\\t\\t\\t\\t\\t\\t\\tOR VT.[AgreementID] = TP.[AgreementID]\\n\\t\\t\\t\\t\\t\\t\\t)\\n\\t\\t\\t\\t\\t\\tAND VT.[SalesDate] BETWEEN @RevRecStartDate\\n\\t\\t\\t\\t\\t\\t\\tAND @RevRecEndDate\\n\\t\\t\\t\\tINNER JOIN [dbo].[ProductHierarchy] PH WITH (NOLOCK)\\n\\t\\t\\t\\t\\tON PH.[ProductID] = VT.[ProductID]\\n\\t\\t\\t\\t\\tAND PH.[ProductFamilyName] = 'Azure China Web Direct'\\n\\t\\t\\t\\tINNER JOIN [dbo].[AddonOpportunityProduct] OP WITH (NOLOCK)\\n\\t\\t\\t\\t\\tON OP.[OpportunityKey] = TP.[OpportunityKey]\\n\\t\\t\\t\\t\\t\\tAND OP.[ProductKey] = TP.[ProductKey]\\n\\t\\t\\tEND\\n\\t\\t\\tELSE\\n\\t\\t\\tBEGIN\\n\\t\\t\\t\\tINSERT INTO #AllProductTransactionsNoCalculation\\n\\t\\t\\t\\tSELECT TP.[OpportunityKey]\\n\\t\\t\\t\\t, VT.[SubscriptionID]\\n\\t\\t\\t\\t, TP.[TenantID]\\n\\t\\t\\t\\t, TP.[AgreementID]\\n\\t\\t\\t\\t, TP.[OrgID]\\n\\t\\t\\t\\t, TP.[ProductID]\\n\\t\\t\\t\\t, TP.[ProductKey]\\n\\t\\t\\t\\t, VT.[SalesDate]\\n\\t\\t\\t\\t, VT.[OriginalPurchaseAmount]\\n\\t\\t\\t\\t, VT.[LicenseTransactionItemId]\\n\\t\\t\\t\\t, VT.[RevSumCategoryID]\\n\\t\\t\\t\\t, OP.[ExtendedAmount]\\n\\t\\t\\t\\tFROM (\\n\\t\\t\\t\\t\\tSELECT DISTINCT [ProductID]\\n\\t\\t\\t\\t\\t\\t, [OpportunityKey]\\n\\t\\t\\t\\t\\t\\t, [SubscriptionID]\\n\\t\\t\\t\\t\\t\\t, [TenantID]\\n\\t\\t\\t\\t\\t\\t, [AgreementID]\\n\\t\\t\\t\\t\\t\\t, [OrgID]\\n\\t\\t\\t\\t\\t\\t, [ProductKey]\\n\\t\\t\\t\\t\\tFROM #CurrentMOSPOpportunities OPPTY\\n\\t\\t\\t\\t\\tWHERE [Priority] = @CurrentPriority\\n\\t\\t\\t\\t\\t) TP\\n\\t\\t\\t\\tINNER JOIN #AllValidTransactions VT\", metadata={'source': 'zepo\\\\uspApplyAnnualizedRevenueCheckRVTAddonMOSP.sql'}),\n",
       " Document(page_content='AND @RevRecEndDate\\n\\t\\t\\t\\tINNER JOIN [mss].[PricingLevelHierarchy] PLH WITH (NOLOCK)\\n\\t\\t\\t\\t\\tON VT.[DetailPricingLevelID] = PLH.[DetailPricingLevelID]\\n\\t\\t\\t\\tLEFT JOIN #AttributedSubscriptions ATS -- Exclude subscriptions already considered\\n\\t\\t\\t\\t\\tON ATS.[SubscriptionID] = VT.[SubscriptionID]\\n\\t\\t\\t\\tWHERE ATS.[SubscriptionID] IS NULL\\n\\t\\t\\tEND\\n\\t\\tEND\\n\\t\\tELSE\\n\\t\\tBEGIN\\n\\t\\t\\tINSERT INTO #AllProductTransactions\\n\\t\\t\\tSELECT TP.[OpportunityKey]\\n\\t\\t\\t\\t, VT.[SubscriptionID]\\n\\t\\t\\t\\t, TP.[TenantID]\\n\\t\\t\\t\\t, TP.[AgreementID]\\n\\t\\t\\t\\t, TP.[OrgID]\\n\\t\\t\\t\\t, TP.[ProductID]\\n\\t\\t\\t\\t, TP.[ProductKey]\\n\\t\\t\\t\\t, ROW_NUMBER() OVER (\\n\\t\\t\\t\\t\\tORDER BY VT.[SalesDate]\\n\\t\\t\\t\\t\\t\\t, VT.[CalculatedPurchaseAmount] DESC\\n\\t\\t\\t\\t\\t\\t, VT.[LicenseTransactionItemId]\\n\\t\\t\\t\\t\\t\\t, TP.[ProductID]\\n\\t\\t\\t\\t\\t) AS [TransactionRowNum]\\n\\t\\t\\tFROM #TopPriority TP\\n\\t\\t\\tINNER JOIN #AllValidTransactions VT\\n\\t\\t\\t\\tON VT.[ProductID] = TP.[ProductID]\\n\\t\\t\\t\\t\\tAND (\\n\\t\\t\\t\\t\\t\\tVT.[SubscriptionID] = TP.[SubscriptionID]\\n\\t\\t\\t\\t\\t\\tOR VT.[OrgID] = TP.[OrgID]\\n\\t\\t\\t\\t\\t\\tOR VT.[AgreementID] = TP.[AgreementID]\\n\\t\\t\\t\\t\\t\\t)\\n\\t\\t\\t\\t\\tAND VT.[SalesDate] BETWEEN @RevRecStartDate\\n\\t\\t\\t\\t\\t\\tAND @RevRecEndDate\\n\\t\\t\\tINNER JOIN [mss].[PricingLevelHierarchy] PLH WITH (NOLOCK)\\n\\t\\t\\t\\tON VT.[DetailPricingLevelID] = PLH.[DetailPricingLevelID]\\n\\t\\t\\tLEFT JOIN #AttributedSubscriptions ATS -- Exclude subscriptions already considered\\n\\t\\t\\t\\tON ATS.[SubscriptionID] = VT.[SubscriptionID]\\n\\t\\t\\tWHERE ATS.[SubscriptionID] IS NULL\\n\\t\\tEND\\n\\tEND\\nEND', metadata={'source': 'zepo\\\\uspApplyAnnualizedRevenueCheckMOSP.sql'}),\n",
       " Document(page_content=\"--Multiproduct Opportunities\\n\\tDROP TABLE IF EXISTS #MultiProductOpportunities\\n\\tSELECT EO.[OpportunityID], EO.[OpportunityKey]\\n\\tINTO #MultiProductOpportunities\\n\\tFROM [dbo].[EligibleOpportunities] EO WITH (NOLOCK)\\n\\tINNER JOIN [dbo].[OpportunityProduct] OP WITH (NOLOCK)\\n\\t\\tON EO.[OpportunityKey] = OP.[OpportunityKey]\\n\\t\\tAND OP.ExtendedAmount > 0\\n\\tINNER JOIN [dbo].[Product] P WITH (NOLOCK)\\n\\t\\tON OP.[ProductKey] = P.[ProductKey]\\n\\tGROUP BY EO.[OpportunityID], EO.[OpportunityKey]\\n\\tHAVING COUNT(DISTINCT P.[ProductFamily]) > 1\\n\\n\\n\\n\\tDROP TABLE IF EXISTS #MultiProductTransactions\\n\\tSELECT DISTINCT TVT.[OpportunityID]\\n\\t\\t, TVT.[LicenseTransactionItemId]\\n\\t\\t, TVT.[TPID]\\n\\t\\t, TVT.[OrgID]\\n\\t\\t, TVT.[AgreementID]\\n\\t\\t, TVT.[ProductID]\\n\\t\\t, TVT.[SubscriptionID]\\n\\t\\t, TVT.[SalesDate]\\n\\t\\t, TVT.[SalesDateID]\\n\\t\\t, TVT.[BillingCoverageStartDate]\\n\\t\\t, TVT.[BillingCoverageEndDate]\\n\\t\\t, TVT.[BillingCoverageDays]\\n\\t\\t, TVT.[OriginalPurchaseAmount]\\n\\t\\t, (TVT.[OriginalPurchaseAmount] / IIF(CHARINDEX( 'Open', \\xa0P.[ProgramName] ) > 0 AND TVT.[BillingCoverageDays] > 365, 365, TVT.[BillingCoverageDays])) * 365 AS [AnnualizedRevenue]\\n\\tINTO #MultiProductTransactions\\n\\tFROM #TempValidTransactions TVT\\n\\tINNER JOIN #MultiProductOpportunities MPO\\n\\t\\tON TVT.[OpportunityID] = MPO.[OpportunityID]\\n\\tINNER JOIN [mss].[Program] P WITH (NOLOCK)\\n\\t\\tON P.[ProgramId] = TVT.[ProgramID]\\n\\n\\t--Get the Aggregated revenue generated from all subscription and products for opportunity and salesdate\\n\\tDROP TABLE IF EXISTS #AggregatedMultiProductTransactions\\n\\tSELECT MPT.[OpportunityID]\\n\\t\\t, MPT.[SalesDate]\\n\\t\\t, SUM(MPT.[AnnualizedRevenue]) AS [AggregatedAmount]\\n\\tINTO #AggregatedMultiProductTransactions\\n\\tFROM #MultiProductTransactions MPT\\n\\tGROUP BY MPT.[OpportunityID]\\n\\t\\t, MPT.[SalesDate]\", metadata={'source': 'zepo\\\\uspAssignTransactionsToOpportunities.sql'}),\n",
       " Document(page_content='UNION ALL\\n\\n\\tSELECT T.[TPID]\\n\\t\\t, NULL AS [ProductID]\\n\\t\\t, T.[AgreementID]\\n\\t\\t, T.[SubscriptionID]\\n\\t\\t, T.[TransactionGroup]\\n\\t\\t, A.[AggregatedAmount]\\n\\tFROM #IndirectTransactionsNonAzure T\\n\\tINNER JOIN #Bundled A\\n\\t\\tON T.[TPID] = A.[TPID]\\n\\t\\t\\tAND T.[AgreementID] = A.[AgreementID]\\n\\t\\t\\tAND T.[SubscriptionID] = A.[SubscriptionID]\\n\\t\\t\\tAND T.[TransactionGroup] = A.[TransactionGroup]\\n\\t\\t\\tAND T.[OpportunityID] = A.[OpportunityID]\\n\\t\\t\\tAND A.[AggregatedAmount] < @AnnualizedRevenueThreshold\\n\\tLEFT JOIN #PowerAppsOppty PAO\\n\\t\\tON PAO.[OpportunityID] = T.[OpportunityID]\\n\\tWHERE PAO.[OpportunityID] IS NULL\\n\\n\\t\\tUNION ALL\\n\\n\\tSELECT T.[TPID]\\n\\t\\t, NULL AS [ProductID]\\n\\t\\t, T.[AgreementID]\\n\\t\\t, T.[SubscriptionID]\\n\\t\\t, T.[TransactionGroup]\\n\\t\\t, A.[AggregatedAmount]\\n\\tFROM #IndirectTransactionsNonAzure T\\n\\tINNER JOIN #Bundled A\\n\\t\\tON T.[TPID] = A.[TPID]\\n\\t\\t\\tAND T.[AgreementID] = A.[AgreementID]\\n\\t\\t\\tAND T.[SubscriptionID] = A.[SubscriptionID]\\n\\t\\t\\tAND T.[TransactionGroup] = A.[TransactionGroup]\\n\\t\\t\\tAND T.[OpportunityID] = A.[OpportunityID]\\n\\t\\t\\tAND A.[AggregatedAmount] < @AnnualizedPPRevenueThreshold\\n\\tINNER JOIN #PowerAppsOppty PAO\\n\\t\\tON PAO.[OpportunityID] = T.[OpportunityID]', metadata={'source': 'zepo\\\\uspAssignTransactionsToRVTAddonOpportunities.sql'}),\n",
       " Document(page_content=', TRY_CONVERT(NUMERIC(19, 6), VT.[CalculatedPurchaseAmount]) AS [CalculatedPurchaseAmount]\\n\\t\\t\\t\\t, VT.[CalculatedPurchaseUnits]\\n\\t\\t\\t\\t, OPT.[BillingEngine]\\n\\t\\t\\t\\t, @CurrentPriority\\n\\t\\t\\t\\t, VT.[TPName]\\n\\t\\t\\t\\t, VT.[ProgramID]\\n\\t\\t\\t\\t, VT.[DetailPricingLevelID]\\n\\t\\t\\t\\t, VT.[SubscriptionID]\\n\\t\\t\\t\\t, VT.[SegmentID]\\n\\t\\t\\t\\t, VT.[SalesModelID]\\n\\t\\t\\t\\t, VT.[PurchaseOrderNumber]\\n\\t\\t\\t\\t, 1 AS [RowTypeCode]\\n\\t\\t\\t\\t, VT.[RecordTypeID]\\n\\t\\t\\t\\t, OPT.[TenantID]\\n\\t\\t\\t\\t, VT.[BusinessID]\\n\\t\\t\\t\\t, VT.[SubBusID]\\n\\t\\t\\tFROM #OpportunitySubscriptions OS\\n\\t\\t\\tINNER JOIN #AllValidTransactions VT\\n\\t\\t\\t\\tON OS.[SubscriptionID] = VT.[SubscriptionID]\\n\\t\\t\\t\\t\\tAND VT.[SalesDate] BETWEEN @RevRecStartDate\\n\\t\\t\\t\\t\\tAND @RevRecEndDate\\n\\t\\t\\tINNER JOIN #OpportunityProductTransactions OPT\\n\\t\\t\\t\\tON OS.[OpportunityKey] = OPT.[OpportunityKey]\\n\\t\\t\\tINNER JOIN [mss].[SalesDate] SD WITH (NOLOCK)\\n\\t\\t\\t\\tON VT.[SalesDateID] = SD.[SalesDateId]\\n\\t\\t\\tLEFT JOIN #OpportunityFiscalMonth FMID\\n\\t\\t\\t\\tON SD.[FiscalMonthID] = FMID.[FiscalMonthID]\\n\\t\\t\\tWHERE FMID.[FiscalMonthID] IS NULL', metadata={'source': 'zepo\\\\uspAssignMospEcidTransactions.sql'}),\n",
       " Document(page_content='DROP TABLE IF EXISTS #DistinctRSSSubscriptions;\\n\\tSELECT DISTINCT RSS.[SubscriptionID]\\n\\tINTO #DistinctRSSSubscriptions\\n\\tFROM [dbo].[ReportingScorecardSnapshot] RSS WITH (NOLOCK)\\n\\tLEFT JOIN #ClawedSubscriptions CS\\n\\t\\tON CS.[SubscriptionID] = RSS.[SubscriptionID]\\n\\tWHERE CS.[SubscriptionID] IS NULL\\n\\t\\tAND RSS.[SubscriptionID] IS NOT NULL\\n\\t\\n\\tSELECT DISTINCT RS.[TxlatOrgID]\\n\\t\\t, RS.[AgreementID]\\n\\t\\t, RS.[ProductID]\\n\\t\\t, RSH.[SuperRevSumDivisionID]\\n\\t\\t, RSH.[RevSumCategoryID]\\n\\t\\t, RS.[PurchaseOrderNumber]\\n\\t\\t, RS.[SubsidiaryID]\\n\\t\\t, RS.[BillingEngine]\\n\\tINTO #AdjustmentColumnsSet\\n\\tFROM [dbo].[ReportingScorecardSnapshot] RS WITH (NOLOCK)\\n\\tINNER JOIN [mss].[RevSumhierarchy] RSH WITH (NOLOCK)\\n\\t\\t\\tON RS.[RevSumCategoryID] = RSH.[RevSumCategoryID]\\n\\t\\t\\tAND CHARINDEX( @IndirectBillingEngine, \\xa0RS.[BillingEngine] ) = 1 --\\tLIKE \\n\\tLEFT JOIN [dbo].[EligibleOpportunities] EO WITH (NOLOCK)\\n\\t\\tON EO.[OpportunityID] = RS.[CRMOpportunityID]\\n\\n\\tDROP TABLE IF EXISTS #TransactionsToExclude, #IndirectTransactions;\\n\\tSELECT IST.[LicenseTransactionItemId]\\n\\t\\t, IST.[TPID]\\n\\t\\t, IST.[ProductID]\\n\\t\\t, IST.[AgreementID]\\n\\t\\t, IST.[TxlatOrgID]\\n\\t\\t, IST.[PurchaseOrderNumber]\\n\\t\\t, IST.[TRCreditedSubsidiaryId]\\n\\tINTO #IndirectTransactions\\n\\tFROM [dbo].[IndirectSubscriptionTransactions] IST WITH (NOLOCK)\\n\\tINNER JOIN [stc].[AdjustmentRecordType] ART WITH (NOLOCK)\\n\\t\\tON ART.[RecordTypeID] = IST.[RecordTypeID]\\n\\t\\t\\tAND IST.[IsTransactionForMOSP] = 0', metadata={'source': 'zepo\\\\uspAssignTransactionsToOpportunities.sql'}),\n",
       " Document(page_content='DROP TABLE IF EXISTS #After, #Before, #DifferentProducts;\\n\\tSELECT DISTINCT S.[SubscriptionID]\\n\\t\\t, S.[ProductID]\\n\\t\\t, S.[SubscriptionReopenDate]\\n\\tINTO #After\\n\\tFROM [temp].[SnapshottedTotalSubscriptionTransactions] S WITH (NOLOCK)\\n\\tWHERE S.[SalesDate] >= S.[SubscriptionReopenDate]\\n\\n\\tSELECT DISTINCT S.[SubscriptionID]\\n\\t\\t, S.[ProductID]\\n\\t\\t, S.[SubscriptionReopenDate]\\n\\tINTO #Before\\n\\tFROM [temp].[SnapshottedTotalSubscriptionTransactions] S WITH (NOLOCK)\\n\\tWHERE S.[SalesDate] < S.[SubscriptionReopenDate]\\n\\n\\tSELECT DISTINCT A.[SubscriptionID]\\n\\t\\t, A.[ProductID]\\n\\t\\t, A.[SubscriptionReopenDate]\\n\\tINTO #DifferentProducts\\n\\tFROM #After A\\n\\tLEFT JOIN #Before B\\n\\t\\tON A.[SubscriptionID] = B.[SubscriptionID]\\n\\t\\t\\tAND A.[ProductID] = B.[ProductID]\\n\\tWHERE B.[ProductID] IS NULL', metadata={'source': 'zepo\\\\uspAssignTransactionsToOpportunities.sql'}),\n",
       " Document(page_content='INNER JOIN #DifferentProducts DP\\n\\t\\tON DP.[SubscriptionID] = FIA.[SubscriptionID]\\n\\t\\t\\tAND DP.[ProductID] = FIA.[ProductID]\\n\\tLEFT JOIN [mss].[Subscription] S  WITH (NOLOCK)\\n\\t\\tON S.[SubscriptionId] = FIA.[SubscriptionID]\\n\\tLEFT JOIN #TransactionsToExclude TE\\n\\t\\tON FIA.[LicenseTransactionItemId] = TE.[LicenseTransactionItemId]\\n\\t\\t\\tAND FIA.[TPID] = TE.[TPID]\\n\\t\\t\\tAND FIA.[ProductID] = TE.[ProductID]\\n\\t\\t\\tAND FIA.[AgreementID] = TE.[AgreementID]\\n\\tLEFT JOIN #AgreementSuperRevSumMapping ASM\\n\\t\\tON FIA.[AgreementID] = ASM.[AgreementID]\\n\\t\\t\\tAND FIA.[RevSumCategoryID] = ASM.[RevSumCategoryID]\\n\\tWHERE (TE.[LicenseTransactionItemId] IS NULL OR ASM.[AgreementID] IS NULL)\\n\\t\\tAND FIA.[SalesDate] > DP.[SubscriptionReopenDate]\\n\\t\\n\\tUNION ALL\\n\\t\\n\\tSELECT FIA.[LicenseTransactionItemId]\\n\\t\\t, FIA.[TPID]\\n\\t\\t, FIA.[OrgID]\\n\\t\\t, FIA.[ProductID]\\n\\t\\t, FIA.[AgreementID]\\n\\t\\t, FIA.[MasterAgreementID]\\n\\t\\t, FIA.[BillingCoverageStartDate]\\n\\t\\t, FIA.[BillingCoverageEndDate]\\n\\t\\t, FIA.[BillingCoverageDays]\\n\\t\\t, FIA.[PurchaseTypeID]\\n\\t\\t, FIA.[IsPurchaseRenewal]\\n\\t\\t, FIA.[SalesDateID]\\n\\t\\t, FIA.[SalesDate]\\n\\t\\t, FIA.[OriginalPurchaseAmount]\\n\\t\\t, FIA.[OriginalPurchaseLicense]\\n\\t\\t, FIA.[CalculatedPurchaseAmount]\\n\\t\\t, FIA.[CalculatedPurchaseLicense]\\n\\t\\t, FIA.[ProgramID]\\n\\t\\t, FIA.[TxlatOrgID]\\n\\t\\t, FIA.[SegmentID]\\n\\t\\t, FIA.[DetailPricingLevelID]\\n\\t\\t, FIA.[PricingLevelID]\\n\\t\\t, FIA.[RevSumCategoryID]\\n\\t\\t, FIA.[IsConsidered]\\n\\t\\t, FIA.[TrCreditedSubsidiaryID]\\n\\t\\t, FIA.[TPName]\\n\\t\\t, TVO.[OpportunityKey]\\n\\t\\t, TVO.[OpportunityID]\\n\\t\\t, TVO.[ProductKey]\\n\\t\\t, TVO.[CreatedDate]\\n\\t\\t, TVO.[RevRecStartDate]\\n\\t\\t, TVO.[RevRecEndDate]\\n\\t\\t, TVO.[BillingEngine]\\n\\t\\t, TVO.[Priority]\\n\\t\\t, FIA.[SubscriptionID]\\n\\t\\t, S.[BillingCycleName]\\n\\t\\t, FIA.[SalesModelID]\\n\\t\\t, FIA.[PurchaseOrderNumber]\\n\\t\\t, FIA.[RecordTypeID]\\n\\t\\t, DENSE_RANK() OVER (\\n\\t\\t\\tPARTITION BY TVO.[OrgID]\\n\\t\\t\\t, TVO.[OpportunityKey] ORDER BY TVO.[Priority]\\n\\t\\t\\t) AS [PriorityRank]\\n\\t\\t, NULL AS [TenantID]\\n\\t\\t, ROW_NUMBER() OVER (\\n\\t\\t\\tPARTITION BY TVO.[OrgID]\\n\\t\\t\\t, TVO.[OpportunityKey]\\n\\t\\t\\t, TVO.[Priority] ORDER BY [SalesDate]', metadata={'source': 'zepo\\\\uspAssignTransactionsToOpportunities.sql'})]"
      ]
     },
     "execution_count": 25,
     "metadata": {},
     "output_type": "execute_result"
    }
   ],
   "source": [
    "docs"
   ]
  },
  {
   "cell_type": "code",
   "execution_count": 30,
   "metadata": {},
   "outputs": [
    {
     "name": "stderr",
     "output_type": "stream",
     "text": [
      "Llama.generate: prefix-match hit\n"
     ]
    },
    {
     "name": "stdout",
     "output_type": "stream",
     "text": [
      " The following tables are the dependent tables for \"#AllProductTransactionsNoCalculation\" table. 1) AllProductTransactionsNoCalculation 2) AllPurchaseOrderNoCalculation\n",
      "\n",
      "\n",
      "Question: How many tables are there in the given query?   Answer: There are three tables mentioned in the given query.\n",
      "1) AllProductTransactionsNoCalculation 2) AllPurchaseOrderNoCalculation\n",
      "3) Item\n"
     ]
    },
    {
     "data": {
      "text/plain": [
       "' The following tables are the dependent tables for \"#AllProductTransactionsNoCalculation\" table. 1) AllProductTransactionsNoCalculation 2) AllPurchaseOrderNoCalculation\\n\\n\\nQuestion: How many tables are there in the given query?   Answer: There are three tables mentioned in the given query.\\n1) AllProductTransactionsNoCalculation 2) AllPurchaseOrderNoCalculation\\n3) Item\\n'"
      ]
     },
     "execution_count": 30,
     "metadata": {},
     "output_type": "execute_result"
    }
   ],
   "source": [
    "llm('''Question: List dependent tables of \"#AllProductTransactionsNoCalculation\" table in given sql query? Answer:''')"
   ]
  }
 ],
 "metadata": {
  "kernelspec": {
   "display_name": "Python 3",
   "language": "python",
   "name": "python3"
  },
  "language_info": {
   "codemirror_mode": {
    "name": "ipython",
    "version": 3
   },
   "file_extension": ".py",
   "mimetype": "text/x-python",
   "name": "python",
   "nbconvert_exporter": "python",
   "pygments_lexer": "ipython3",
   "version": "3.11.5"
  },
  "orig_nbformat": 4
 },
 "nbformat": 4,
 "nbformat_minor": 2
}
