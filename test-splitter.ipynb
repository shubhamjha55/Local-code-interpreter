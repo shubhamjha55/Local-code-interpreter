{
 "cells": [
  {
   "cell_type": "code",
   "execution_count": 1,
   "metadata": {},
   "outputs": [],
   "source": [
    "import openai \n",
    "import tiktoken \n",
    "import chromadb \n",
    "import langchain"
   ]
  },
  {
   "cell_type": "code",
   "execution_count": 2,
   "metadata": {},
   "outputs": [],
   "source": [
    "from langchain.custom_text_splitter import Language\n",
    "from langchain.document_loaders.generic import GenericLoader\n",
    "from langchain.document_loaders.parsers import LanguageParser"
   ]
  },
  {
   "cell_type": "code",
   "execution_count": 3,
   "metadata": {},
   "outputs": [],
   "source": [
    "# Ropo Path\n",
    "repo_path = \"./zepo\""
   ]
  },
  {
   "cell_type": "code",
   "execution_count": 4,
   "metadata": {},
   "outputs": [
    {
     "data": {
      "text/plain": [
       "8"
      ]
     },
     "execution_count": 4,
     "metadata": {},
     "output_type": "execute_result"
    }
   ],
   "source": [
    "# Load\n",
    "loader = GenericLoader.from_filesystem(\n",
    "    repo_path,\n",
    "    glob=\"**/*\",\n",
    "    suffixes=[],\n",
    "    parser=LanguageParser(parser_threshold=500)\n",
    ")\n",
    "documents = loader.load()\n",
    "len(documents)"
   ]
  },
  {
   "cell_type": "code",
   "execution_count": 7,
   "metadata": {},
   "outputs": [],
   "source": [
    "from langchain.custom_text_splitter import RecursiveCharacterTextSplitter"
   ]
  },
  {
   "cell_type": "code",
   "execution_count": 5,
   "metadata": {},
   "outputs": [
    {
     "data": {
      "text/plain": [
       "154"
      ]
     },
     "execution_count": 5,
     "metadata": {},
     "output_type": "execute_result"
    }
   ],
   "source": [
    "#Split \n",
    "from langchain.custom_text_splitter import RecursiveCharacterTextSplitter\n",
    "python_splitter = RecursiveCharacterTextSplitter.from_language( language=Language.SQL, \n",
    "                                                               chunk_size=2000, \n",
    "                                                               chunk_overlap=200)\n",
    "texts = python_splitter.split_documents(documents)\n",
    "len(texts)"
   ]
  },
  {
   "cell_type": "code",
   "execution_count": 6,
   "metadata": {},
   "outputs": [],
   "source": [
    "#Persist Directory\n",
    "persist_directory = 'C:\\ProjectLFG\\PersistedEmbeddings'"
   ]
  },
  {
   "cell_type": "code",
   "execution_count": 7,
   "metadata": {},
   "outputs": [],
   "source": [
    "#Creating the Embeddings\n",
    "from langchain.vectorstores import Chroma\n",
    "from langchain.embeddings.openai import OpenAIEmbeddings #Can use any other like Huggingface's embedding\n",
    "\n",
    "embedding = OpenAIEmbeddings(disallowed_special=())\n",
    "db = Chroma.from_documents(documents=texts, \n",
    "                           embedding=embedding,\n",
    "                           persist_directory=persist_directory)\n",
    "#Created Embeddings in db successfully"
   ]
  },
  {
   "cell_type": "code",
   "execution_count": 8,
   "metadata": {},
   "outputs": [],
   "source": [
    "# persiste the embedding DB to disk then delete it\n",
    "db.persist()\n",
    "db = None"
   ]
  },
  {
   "cell_type": "code",
   "execution_count": 9,
   "metadata": {},
   "outputs": [],
   "source": [
    "# Now we can load the persisted database from disk, and use it as normal. \n",
    "db = Chroma(persist_directory=persist_directory, \n",
    "                  embedding_function=embedding)"
   ]
  },
  {
   "cell_type": "code",
   "execution_count": 10,
   "metadata": {},
   "outputs": [],
   "source": [
    "#Setting up Retriever\n",
    "retriever = db.as_retriever(\n",
    "    search_type=\"mmr\", # Also test \"similarity\"\n",
    "    search_kwargs={\"k\": 8}, # Number of relevant document to return\n",
    ")"
   ]
  },
  {
   "cell_type": "code",
   "execution_count": 11,
   "metadata": {},
   "outputs": [
    {
     "data": {
      "text/plain": [
       "[Document(page_content=\"IF @OpportunityLicenseProgram = 'OSSA'\\n\\t\\t\\tBEGIN\\n\\t\\t\\t\\tINSERT INTO #AllProductTransactionsNoCalculation\\n\\t\\t\\t\\tSELECT TP.[OpportunityKey]\\n\\t\\t\\t\\t, VT.[SubscriptionID]\\n\\t\\t\\t\\t, TP.[TenantID]\\n\\t\\t\\t\\t, TP.[AgreementID]\\n\\t\\t\\t\\t, TP.[OrgID]\\n\\t\\t\\t\\t, TP.[ProductID]\\n\\t\\t\\t\\t, TP.[ProductKey]\\n\\t\\t\\t\\t, VT.[SalesDate]\\n\\t\\t\\t\\t, VT.[OriginalPurchaseAmount]\\n\\t\\t\\t\\t, VT.[LicenseTransactionItemId]\\n\\t\\t\\t\\t, VT.[RevSumCategoryID]\\n\\t\\t\\t\\t, OP.[ExtendedAmount]\\n\\t\\t\\t\\tFROM (\\n\\t\\t\\t\\t\\tSELECT DISTINCT [ProductID]\\n\\t\\t\\t\\t\\t\\t, [OpportunityKey]\\n\\t\\t\\t\\t\\t\\t, [SubscriptionID]\\n\\t\\t\\t\\t\\t\\t, [TenantID]\\n\\t\\t\\t\\t\\t\\t, [AgreementID]\\n\\t\\t\\t\\t\\t\\t, [OrgID]\\n\\t\\t\\t\\t\\t\\t, [ProductKey]\\n\\t\\t\\t\\t\\tFROM #CurrentMOSPOpportunities OPPTY\\n\\t\\t\\t\\t\\tWHERE [Priority] = @CurrentPriority\\n\\t\\t\\t\\t\\t) TP\\n\\t\\t\\t\\tINNER JOIN #AllValidTransactions VT\\n\\t\\t\\t\\t\\tON VT.[ProductID] = TP.[ProductID]\\n\\t\\t\\t\\t\\t\\tAND (\\n\\t\\t\\t\\t\\t\\t\\tVT.[SubscriptionID] = TP.[SubscriptionID]\\n\\t\\t\\t\\t\\t\\t\\tOR VT.[OrgID] = TP.[OrgID]\\n\\t\\t\\t\\t\\t\\t\\tOR VT.[AgreementID] = TP.[AgreementID]\\n\\t\\t\\t\\t\\t\\t\\t)\\n\\t\\t\\t\\t\\t\\tAND VT.[SalesDate] BETWEEN @RevRecStartDate\\n\\t\\t\\t\\t\\t\\t\\tAND @RevRecEndDate\\n\\t\\t\\t\\tINNER JOIN [dbo].[ProductHierarchy] PH WITH (NOLOCK)\\n\\t\\t\\t\\t\\tON PH.[ProductID] = VT.[ProductID]\\n\\t\\t\\t\\t\\tAND PH.[ProductFamilyName] = 'Azure China Web Direct'\\n\\t\\t\\t\\tINNER JOIN [dbo].[AddonOpportunityProduct] OP WITH (NOLOCK)\\n\\t\\t\\t\\t\\tON OP.[OpportunityKey] = TP.[OpportunityKey]\\n\\t\\t\\t\\t\\t\\tAND OP.[ProductKey] = TP.[ProductKey]\\n\\t\\t\\tEND\\n\\t\\t\\tELSE\\n\\t\\t\\tBEGIN\\n\\t\\t\\t\\tINSERT INTO #AllProductTransactionsNoCalculation\\n\\t\\t\\t\\tSELECT TP.[OpportunityKey]\\n\\t\\t\\t\\t, VT.[SubscriptionID]\\n\\t\\t\\t\\t, TP.[TenantID]\\n\\t\\t\\t\\t, TP.[AgreementID]\\n\\t\\t\\t\\t, TP.[OrgID]\\n\\t\\t\\t\\t, TP.[ProductID]\\n\\t\\t\\t\\t, TP.[ProductKey]\\n\\t\\t\\t\\t, VT.[SalesDate]\\n\\t\\t\\t\\t, VT.[OriginalPurchaseAmount]\\n\\t\\t\\t\\t, VT.[LicenseTransactionItemId]\\n\\t\\t\\t\\t, VT.[RevSumCategoryID]\\n\\t\\t\\t\\t, OP.[ExtendedAmount]\\n\\t\\t\\t\\tFROM (\\n\\t\\t\\t\\t\\tSELECT DISTINCT [ProductID]\\n\\t\\t\\t\\t\\t\\t, [OpportunityKey]\\n\\t\\t\\t\\t\\t\\t, [SubscriptionID]\\n\\t\\t\\t\\t\\t\\t, [TenantID]\\n\\t\\t\\t\\t\\t\\t, [AgreementID]\\n\\t\\t\\t\\t\\t\\t, [OrgID]\\n\\t\\t\\t\\t\\t\\t, [ProductKey]\\n\\t\\t\\t\\t\\tFROM #CurrentMOSPOpportunities OPPTY\\n\\t\\t\\t\\t\\tWHERE [Priority] = @CurrentPriority\\n\\t\\t\\t\\t\\t) TP\\n\\t\\t\\t\\tINNER JOIN #AllValidTransactions VT\", metadata={'source': 'zepo\\\\uspApplyAnnualizedRevenueCheckRVTAddonMOSP.sql'}),\n",
       " Document(page_content=', [AgreementID]\\n\\t\\t\\t\\t\\t\\t, [OrgID]\\n\\t\\t\\t\\t\\t\\t, [ProductKey]\\n\\t\\t\\t\\t\\tFROM #CurrentMOSPOpportunities OPPTY\\n\\t\\t\\t\\t\\tWHERE [Priority] = @CurrentPriority\\n\\t\\t\\t\\t\\t) TP\\n\\t\\t\\t\\tINNER JOIN #AllValidTransactions VT\\n\\t\\t\\t\\t\\tON VT.[ProductID] = TP.[ProductID]\\n\\t\\t\\t\\t\\t\\tAND (\\n\\t\\t\\t\\t\\t\\t\\tVT.[SubscriptionID] = TP.[SubscriptionID]\\n\\t\\t\\t\\t\\t\\t\\tOR VT.[OrgID] = TP.[OrgID]\\n\\t\\t\\t\\t\\t\\t\\tOR VT.[AgreementID] = TP.[AgreementID]\\n\\t\\t\\t\\t\\t\\t\\t)\\n\\t\\t\\t\\t\\t\\tAND VT.[SalesDate] BETWEEN @RevRecStartDate\\n\\t\\t\\t\\t\\t\\t\\tAND @RevRecEndDate\\n\\t\\t\\t\\tINNER JOIN [mss].[PricingLevelHierarchy] PLH WITH (NOLOCK)\\n\\t\\t\\t\\t\\tON VT.[DetailPricingLevelID] = PLH.[DetailPricingLevelID]\\n\\t\\t\\t\\tINNER JOIN [dbo].[AddonOpportunityProduct] OP WITH (NOLOCK)\\n\\t\\t\\t\\t\\tON OP.[OpportunityKey] = TP.[OpportunityKey]\\n\\t\\t\\t\\t\\t\\tAND OP.[ProductKey] = TP.[ProductKey]\\n\\t\\t\\tEND\\n\\t\\tEND\\n\\t\\tELSE \\n\\t\\tBEGIN\\n\\t\\t\\tINSERT INTO #AllProductTransactionsNoCalculation\\n\\t\\t\\tSELECT TP.[OpportunityKey]\\n\\t\\t\\t\\t, VT.[SubscriptionID]\\n\\t\\t\\t\\t, TP.[TenantID]\\n\\t\\t\\t\\t, TP.[AgreementID]\\n\\t\\t\\t\\t, TP.[OrgID]\\n\\t\\t\\t\\t, TP.[ProductID]\\n\\t\\t\\t\\t, TP.[ProductKey]\\n\\t\\t\\t\\t, VT.[SalesDate]\\n\\t\\t\\t\\t, VT.[OriginalPurchaseAmount]\\n\\t\\t\\t\\t, VT.[LicenseTransactionItemId]\\n\\t\\t\\t\\t, VT.[RevSumCategoryID]\\n\\t\\t\\t\\t, OP.[ExtendedAmount]\\n\\t\\t\\tFROM (\\n\\t\\t\\t\\tSELECT DISTINCT [ProductID]\\n\\t\\t\\t\\t\\t, [OpportunityKey]\\n\\t\\t\\t\\t\\t, [SubscriptionID]\\n\\t\\t\\t\\t\\t, [TenantID]\\n\\t\\t\\t\\t\\t, [AgreementID]\\n\\t\\t\\t\\t\\t, [OrgID]\\n\\t\\t\\t\\t\\t, [ProductKey]\\n\\t\\t\\t\\tFROM #CurrentMOSPOpportunities OPPTY\\n\\t\\t\\t\\tWHERE [Priority] = @CurrentPriority\\n\\t\\t\\t\\t) TP\\n\\t\\t\\tINNER JOIN #AllValidTransactions VT\\n\\t\\t\\t\\tON VT.[ProductID] = TP.[ProductID]\\n\\t\\t\\t\\t\\tAND (\\n\\t\\t\\t\\t\\t\\tVT.[SubscriptionID] = TP.[SubscriptionID]\\n\\t\\t\\t\\t\\t\\tOR VT.[OrgID] = TP.[OrgID]\\n\\t\\t\\t\\t\\t\\tOR VT.[AgreementID] = TP.[AgreementID]\\n\\t\\t\\t\\t\\t\\t)\\n\\t\\t\\t\\t\\tAND VT.[SalesDate] BETWEEN @RevRecStartDate\\n\\t\\t\\t\\t\\t\\tAND @RevRecEndDate\\n\\t\\t\\tINNER JOIN [mss].[PricingLevelHierarchy] PLH WITH (NOLOCK)\\n\\t\\t\\t\\tON VT.[DetailPricingLevelID] = PLH.[DetailPricingLevelID]\\n\\t\\t\\tINNER JOIN [dbo].[AddonOpportunityProduct] OP WITH (NOLOCK)\\n\\t\\t\\t\\tON OP.[OpportunityKey] = TP.[OpportunityKey]\\n\\t\\t\\t\\t\\tAND OP.[ProductKey] = TP.[ProductKey]\\n\\t\\tEND\\n\\tEND\\nEND', metadata={'source': 'zepo\\\\uspApplyAnnualizedRevenueCheckRVTAddonMOSP.sql'}),\n",
       " Document(page_content=\"IF @OpportunityLicenseProgram = 'OSSA'\\n\\t\\t\\tBEGIN\\n\\t\\t\\t\\tINSERT INTO #AllProductTransactionsNoCalculation\\n\\t\\t\\t\\tSELECT TP.[OpportunityKey]\\n\\t\\t\\t\\t, VT.[SubscriptionID]\\n\\t\\t\\t\\t, TP.[TenantID]\\n\\t\\t\\t\\t, TP.[AgreementID]\\n\\t\\t\\t\\t, TP.[OrgID]\\n\\t\\t\\t\\t, TP.[ProductID]\\n\\t\\t\\t\\t, TP.[ProductKey]\\n\\t\\t\\t\\t, VT.[SalesDate]\\n\\t\\t\\t\\t, VT.[OriginalPurchaseAmount]\\n\\t\\t\\t\\t, VT.[LicenseTransactionItemId]\\n\\t\\t\\t\\t, VT.[RevSumCategoryID]\\n\\t\\t\\t\\t, OP.[ExtendedAmount]\\n\\t\\t\\t\\tFROM (\\n\\t\\t\\t\\t\\tSELECT DISTINCT [ProductID]\\n\\t\\t\\t\\t\\t\\t, [OpportunityKey]\\n\\t\\t\\t\\t\\t\\t, [SubscriptionID]\\n\\t\\t\\t\\t\\t\\t, [TenantID]\\n\\t\\t\\t\\t\\t\\t, [AgreementID]\\n\\t\\t\\t\\t\\t\\t, [OrgID]\\n\\t\\t\\t\\t\\t\\t, [ProductKey]\\n\\t\\t\\t\\t\\tFROM #CurrentMOSPOpportunities OPPTY\\n\\t\\t\\t\\t\\tWHERE [Priority] = @CurrentPriority\\n\\t\\t\\t\\t\\t) TP\\n\\t\\t\\t\\tINNER JOIN #ValidTransactions VT\\n\\t\\t\\t\\t\\tON VT.[ProductID] = TP.[ProductID]\\n\\t\\t\\t\\t\\t\\tAND (\\n\\t\\t\\t\\t\\t\\t\\tVT.[SubscriptionID] = TP.[SubscriptionID]\\n\\t\\t\\t\\t\\t\\t\\tOR VT.[OrgID] = TP.[OrgID]\\n\\t\\t\\t\\t\\t\\t\\tOR VT.[AgreementID] = TP.[AgreementID]\\n\\t\\t\\t\\t\\t\\t\\t)\\n\\t\\t\\t\\t\\t\\tAND VT.[SalesDate] BETWEEN @RevRecStartDate\\n\\t\\t\\t\\t\\t\\t\\tAND @RevRecEndDate\\n\\t\\t\\t\\tINNER JOIN [dbo].[ProductHierarchy] PH WITH (NOLOCK)\\n\\t\\t\\t\\t\\tON PH.[ProductID] = VT.[ProductID]\\n\\t\\t\\t\\t\\tAND PH.[ProductFamilyName] = 'Azure China Web Direct'\\n\\t\\t\\t\\tINNER JOIN [dbo].[AddonOpportunityProduct] OP WITH (NOLOCK)\\n\\t\\t\\t\\t\\tON OP.[OpportunityKey] = TP.[OpportunityKey]\\n\\t\\t\\t\\t\\t\\tAND OP.[ProductKey] = TP.[ProductKey]\\n\\t\\t\\tEND\\n\\t\\t\\tELSE\\n\\t\\t\\tBEGIN\\n\\t\\t\\t\\tINSERT INTO #AllProductTransactionsNoCalculation\\n\\t\\t\\t\\tSELECT TP.[OpportunityKey]\\n\\t\\t\\t\\t, VT.[SubscriptionID]\\n\\t\\t\\t\\t, TP.[TenantID]\\n\\t\\t\\t\\t, TP.[AgreementID]\\n\\t\\t\\t\\t, TP.[OrgID]\\n\\t\\t\\t\\t, TP.[ProductID]\\n\\t\\t\\t\\t, TP.[ProductKey]\\n\\t\\t\\t\\t, VT.[SalesDate]\\n\\t\\t\\t\\t, VT.[OriginalPurchaseAmount]\\n\\t\\t\\t\\t, VT.[LicenseTransactionItemId]\\n\\t\\t\\t\\t, VT.[RevSumCategoryID]\\n\\t\\t\\t\\t, OP.[ExtendedAmount]\\n\\t\\t\\t\\tFROM (\\n\\t\\t\\t\\t\\tSELECT DISTINCT [ProductID]\\n\\t\\t\\t\\t\\t\\t, [OpportunityKey]\\n\\t\\t\\t\\t\\t\\t, [SubscriptionID]\\n\\t\\t\\t\\t\\t\\t, [TenantID]\\n\\t\\t\\t\\t\\t\\t, [AgreementID]\\n\\t\\t\\t\\t\\t\\t, [OrgID]\\n\\t\\t\\t\\t\\t\\t, [ProductKey]\\n\\t\\t\\t\\t\\tFROM #CurrentMOSPOpportunities OPPTY\\n\\t\\t\\t\\t\\tWHERE [Priority] = @CurrentPriority\\n\\t\\t\\t\\t\\t) TP\\n\\t\\t\\t\\tINNER JOIN #ValidTransactions VT\", metadata={'source': 'zepo\\\\uspApplyAnnualizedRevenueCheckRVTAddonMOSP.sql'}),\n",
       " Document(page_content=\"--Multiproduct Opportunities\\n\\tDROP TABLE IF EXISTS #MultiProductOpportunities\\n\\tSELECT EO.[OpportunityID], EO.[OpportunityKey]\\n\\tINTO #MultiProductOpportunities\\n\\tFROM [dbo].[EligibleOpportunities] EO WITH (NOLOCK)\\n\\tINNER JOIN [dbo].[OpportunityProduct] OP WITH (NOLOCK)\\n\\t\\tON EO.[OpportunityKey] = OP.[OpportunityKey]\\n\\t\\tAND OP.ExtendedAmount > 0\\n\\tINNER JOIN [dbo].[Product] P WITH (NOLOCK)\\n\\t\\tON OP.[ProductKey] = P.[ProductKey]\\n\\tGROUP BY EO.[OpportunityID], EO.[OpportunityKey]\\n\\tHAVING COUNT(DISTINCT P.[ProductFamily]) > 1\\n\\n\\n\\n\\tDROP TABLE IF EXISTS #MultiProductTransactions\\n\\tSELECT DISTINCT TVT.[OpportunityID]\\n\\t\\t, TVT.[LicenseTransactionItemId]\\n\\t\\t, TVT.[TPID]\\n\\t\\t, TVT.[OrgID]\\n\\t\\t, TVT.[AgreementID]\\n\\t\\t, TVT.[ProductID]\\n\\t\\t, TVT.[SubscriptionID]\\n\\t\\t, TVT.[SalesDate]\\n\\t\\t, TVT.[SalesDateID]\\n\\t\\t, TVT.[BillingCoverageStartDate]\\n\\t\\t, TVT.[BillingCoverageEndDate]\\n\\t\\t, TVT.[BillingCoverageDays]\\n\\t\\t, TVT.[OriginalPurchaseAmount]\\n\\t\\t, (TVT.[OriginalPurchaseAmount] / IIF(CHARINDEX( 'Open', \\xa0P.[ProgramName] ) > 0 AND TVT.[BillingCoverageDays] > 365, 365, TVT.[BillingCoverageDays])) * 365 AS [AnnualizedRevenue]\\n\\tINTO #MultiProductTransactions\\n\\tFROM #TempValidTransactions TVT\\n\\tINNER JOIN #MultiProductOpportunities MPO\\n\\t\\tON TVT.[OpportunityID] = MPO.[OpportunityID]\\n\\tINNER JOIN [mss].[Program] P WITH (NOLOCK)\\n\\t\\tON P.[ProgramId] = TVT.[ProgramID]\\n\\n\\t--Get the Aggregated revenue generated from all subscription and products for opportunity and salesdate\\n\\tDROP TABLE IF EXISTS #AggregatedMultiProductTransactions\\n\\tSELECT MPT.[OpportunityID]\\n\\t\\t, MPT.[SalesDate]\\n\\t\\t, SUM(MPT.[AnnualizedRevenue]) AS [AggregatedAmount]\\n\\tINTO #AggregatedMultiProductTransactions\\n\\tFROM #MultiProductTransactions MPT\\n\\tGROUP BY MPT.[OpportunityID]\\n\\t\\t, MPT.[SalesDate]\", metadata={'source': 'zepo\\\\uspAssignTransactionsToOpportunities.sql'}),\n",
       " Document(page_content=\"--Multiproduct Opportunities\\n\\tDROP TABLE IF EXISTS #MultiProductOpportunities\\n\\tSELECT RO.[OpportunityID], RO.[OpportunityKey]\\n\\tINTO #MultiProductOpportunities\\n\\tFROM [dbo].[RVTAddonEligibleOpportunities] RO WITH (NOLOCK)\\n\\tINNER JOIN [dbo].[AddonOpportunityProduct] OP WITH (NOLOCK)\\n\\t\\tON RO.[OpportunityKey] = OP.[OpportunityKey]\\n\\t\\t\\tAND OP.ExtendedAmount > 0\\n\\tINNER JOIN [dbo].[Product] P WITH (NOLOCK)\\n\\t\\tON OP.[ProductKey] = P.[ProductKey]\\n\\tGROUP BY RO.[OpportunityID], RO.[OpportunityKey]\\n\\tHAVING COUNT(DISTINCT P.[ProductFamily]) > 1\\n\\n\\t\\n\\tDROP TABLE IF EXISTS #MultiProductTransactions\\n\\tSELECT DISTINCT TVT.[OpportunityID]\\n\\t\\t, TVT.[LicenseTransactionItemId]\\n\\t\\t, TVT.[TPID]\\n\\t\\t, TVT.[OrgID]\\n\\t\\t, TVT.[AgreementID]\\n\\t\\t, TVT.[ProductID]\\n\\t\\t, TVT.[SubscriptionID]\\n\\t\\t, TVT.[SalesDate]\\n\\t\\t, TVT.[SalesDateID]\\n\\t\\t, TVT.[BillingCoverageStartDate]\\n\\t\\t, TVT.[BillingCoverageEndDate]\\n\\t\\t, TVT.[BillingCoverageDays]\\n\\t\\t, TVT.[OriginalPurchaseAmount]\\n\\t\\t, (TVT.[OriginalPurchaseAmount] / IIF(CHARINDEX( 'Open', \\xa0P.[ProgramName] ) > 0 AND TVT.[BillingCoverageDays] > 365, 365, TVT.[BillingCoverageDays])) * 365 AS [AnnualizedRevenue]\\n\\tINTO #MultiProductTransactions\\n\\tFROM #TempValidTransactions TVT\\n\\tINNER JOIN #MultiProductOpportunities MPO\\n\\t\\tON TVT.[OpportunityID] = MPO.[OpportunityID]\\n\\tINNER JOIN [mss].[Program] P WITH (NOLOCK)\\n\\t\\tON P.[ProgramId] = TVT.[ProgramID]\\n\\t\\t\\t\\n\\t--Get the Aggregated revenue generated from all subscription and products for opportunity and salesdate\\n\\tDROP TABLE IF EXISTS #AggregatedMultiProductTransactions\\n\\tSELECT MPT.[OpportunityID]\\n\\t\\t, MPT.[SalesDate]\\n\\t\\t, SUM(MPT.[AnnualizedRevenue]) AS [AggregatedAmount]\\n\\tINTO #AggregatedMultiProductTransactions\\n\\tFROM #MultiProductTransactions MPT\\n\\tGROUP BY MPT.[OpportunityID]\\n\\t\\t, MPT.[SalesDate]\", metadata={'source': 'zepo\\\\uspAssignTransactionsToRVTAddonOpportunities.sql'}),\n",
       " Document(page_content=\"DROP TABLE IF EXISTS #AttributedTransactions\\n\\t\\t, #AttributedOpportunity\\n\\t\\t, #AdjustmentColumnsSet\\n\\t\\t, #PowerAppsOppty;\\n\\n\\tSELECT EO.[OpportunityID] \\n\\tINTO #PowerAppsOppty\\n\\tFROM [dbo].[EligibleOpportunities] EO WITH (NOLOCK)\\n\\tWHERE CreditedBuyingScenario = 'PowerApps'\\n\\n\\tCREATE TABLE #AttributedOpportunity ([OpportunityKey] INT NOT NULL)\\n\\n\\tCREATE TABLE #AttributedTransactions (\\n\\t\\t[LicenseTransactionItemId] BIGINT\\n\\t\\t, [OrgID] INT\\n\\t\\t, [ProductID] INT\\n\\t\\t, [AgreementID] VARCHAR(46)\\n\\t\\t, [SuperRevSumDivisionID] INT\\n\\t\\t)\\n\\n\\t\\n\\tDROP TABLE IF EXISTS #AttributedSubscriptions;\\n\\t-- Temp table for storing currently attributed subscriptions\\n\\tCREATE TABLE #AttributedSubscriptions ([SubscriptionID] BIGINT);\\n\\n\\tDROP TABLE IF EXISTS #ClawedSubscriptions;\\n\\tSELECT DISTINCT RSS.[SubscriptionID]\\n\\tINTO #ClawedSubscriptions\\n\\tFROM [rpt].[SnapshotRVT60DayReport] RR WITH (NOLOCK)\\n\\tINNER JOIN [rpt].[OpportunityConsumptionDate] OCD WITH (NOLOCK)\\n\\t\\tON RR.[CRMOpportunityID] = OCD.[CRMOpportunityID]\\n\\t\\tAND RR.IsLatest = 1\\n\\tINNER JOIN [dbo].[ReportingScorecardSnapshot] RSS WITH (NOLOCK)\\n\\t\\tON RSS.[CRMOpportunityID] = RR.[CRMOpportunityID]\\n\\t\\t\\tAND RR.[AdjustmentGroup] = 'Clawback Opportunity'\\n\\t\\t\\tAND RR.[RVTTagDate] >= RSS.[SnapshotDate]\\n\\t\\t\\tAND OCD.[IsActive] = 1\", metadata={'source': 'zepo\\\\uspAssignTransactionsToOpportunities.sql'}),\n",
       " Document(page_content='DROP TABLE IF EXISTS #TransactionsToExclude;\\n\\tWITH CTE_IndirectTransactions\\n\\tAS (\\n\\t\\tSELECT IST.[LicenseTransactionItemId]\\n\\t\\t\\t, IST.[TPID]\\n\\t\\t\\t, IST.[ProductID]\\n\\t\\t\\t, IST.[AgreementID]\\n\\t\\t\\t, IST.[TxlatOrgID]\\n\\t\\t\\t, IST.[PurchaseOrderNumber]\\n\\t\\t\\t, IST.[TRCreditedSubsidiaryId]\\n\\t\\t\\t, IST.[RecordTypeID]\\n\\t\\tFROM [dbo].[IndirectSubscriptionTransactions] IST WITH (NOLOCK)\\n\\t\\tWHERE [IsTransactionForMOSP] = 0\\n\\t\\t\\n\\t\\tUNION\\n\\t\\t\\n\\t\\tSELECT ITA.[LicenseTransactionItemId]\\n\\t\\t\\t, ITA.[TPID]\\n\\t\\t\\t, ITA.[ProductID]\\n\\t\\t\\t, ITA.[AgreementID]\\n\\t\\t\\t, ITA.[TxlatOrgID]\\n\\t\\t\\t, ITA.[PurchaseOrderNumber]\\n\\t\\t\\t, ITA.[TRCreditedSubsidiaryId]\\n\\t\\t\\t, ITA.[RecordTypeID]\\n\\t\\tFROM [dbo].[IndirectTrnAgreementTPIDMapping] ITA WITH (NOLOCK)\\n\\t\\t)\\n\\tSELECT [LicenseTransactionItemId]\\n\\t\\t, [TPID]\\n\\t\\t, [ProductID]\\n\\t\\t, [AgreementID]\\n\\tINTO #TransactionsToExclude\\n\\tFROM (\\n\\t\\tSELECT RSS.[TransactionID] AS [LicenseTransactionItemId]\\n\\t\\t\\t, RSS.[MSSTPID] AS [TPID]\\n\\t\\t\\t, RSS.[ProductID]\\n\\t\\t\\t, RSS.[AgreementID]\\n\\t\\tFROM [dbo].[ReportingScorecardSnapshot] RSS WITH (NOLOCK)\\n\\t\\tWHERE CHARINDEX( @IndirectBillingEngine, \\xa0RSS.[BillingEngine]) = 1 --LIKE\\n\\t\\t\\n\\t\\tUNION\\n\\t\\t\\n\\t\\tSELECT IT.[LicenseTransactionItemId]\\n\\t\\t\\t, IT.[TPID]\\n\\t\\t\\t, IT.[ProductID]\\n\\t\\t\\t, IT.[AgreementID]\\n\\t\\tFROM #AdjustmentColumnsSet ACS\\n\\t\\tINNER JOIN CTE_IndirectTransactions IT\\n\\t\\t\\tON IT.[TxlatOrgID] = ACS.[TxlatOrgID]\\n\\t\\t\\t\\tAND IT.[AgreementID] = ACS.[AgreementID]\\n\\t\\t\\t\\tAND IT.[ProductID] = ACS.[ProductID]\\n\\t\\t\\t\\tAND IT.[PurchaseOrderNumber] = ACS.[PurchaseOrderNumber]\\n\\t\\t\\t\\tAND IT.[TRCreditedSubsidiaryId] = ACS.[SubsidiaryID]\\n\\t\\tINNER JOIN [stc].[AdjustmentRecordType] ART WITH (NOLOCK)\\n\\t\\t\\tON ART.[RecordTypeID] = IT.[RecordTypeID]\\n\\t\\t) DT\\n\\n\\tDROP TABLE IF EXISTS #OverrideSubOrg\\n\\tSELECT DISTINCT OO.[TPID]\\n\\tINTO #OverrideSubOrg\\n\\tFROM [dbo].[OverrideOpportunity] OO WITH (NOLOCK)\\n\\tWHERE OO.[IsACR] = 0\\n\\t\\tAND OO.[IsSuccessful] = 0', metadata={'source': 'zepo\\\\uspAssignTransactionsToRVTAddonOpportunities.sql'}),\n",
       " Document(page_content=\"-- Temp table to fetch all the valid MS Sales transactions for the current Opportunity\\n\\tDROP TABLE IF EXISTS #AllProductTransactionsTemp, #AllProductTransactions, #FinalTransactions, #FinalTransactionsTemp\\n\\tTRUNCATE TABLE #AllProductTransactionsNoCalculation\\n\\n\\tEXEC [dbo].[uspApplyAnnualizedRevenueCheckRVTAddonMOSP] @OpportunityKey \\n\\t\\t, @CurrentPriority \\n\\t\\t, @RevRecStartDate \\n\\t\\t, @RevRecEndDate\\n\\n\\tSELECT TP.[OpportunityKey]\\n\\t\\t, TP.[SubscriptionID]\\n\\t\\t, TP.[TenantID]\\n\\t\\t, TP.[AgreementID]\\n\\t\\t, TP.[OrgID]\\n\\t\\t, TP.[ProductID]\\n\\t\\t, TP.[SalesDate]\\n\\t\\t, SUM(TP.[OriginalPurchaseAmount]) AS [MSSalesAmount]\\n\\t\\t, TP.[ExtendedAmount] AS [MSXAmount]\\n\\tINTO #AllProductTransactionsTemp\\n\\tFROM #AllProductTransactionsNoCalculation TP\\n\\tINNER JOIN [mss].[RevSumHierarchy] RS WITH (NOLOCK)\\n\\t\\tON RS.[RevSumCategoryID] = TP.[RevSumCategoryID]\\n\\t\\t\\tAND CHARINDEX( 'Azure', RS.[RevSumDivisionName]) = 0 \\xa0\\n\\tGROUP BY TP.[OpportunityKey]\\n\\t\\t, TP.[SubscriptionID]\\n\\t\\t, TP.[TenantID]\\n\\t\\t, TP.[AgreementID]\\n\\t\\t, TP.[OrgID]\\n\\t\\t, TP.[ProductID]\\n\\t\\t, TP.[SalesDate]\\n\\t\\t, TP.[ExtendedAmount]\\n\\n\\tSELECT TP.[OpportunityKey]\\n\\t\\t, TP.[SubscriptionID]\\n\\t\\t, TP.[TenantID]\\n\\t\\t, TP.[AgreementID]\\n\\t\\t, TP.[OrgID]\\n\\t\\t, TP.[ProductID]\\n\\t\\t, TP.[SalesDate]\\n\\t\\t, TP.[MSSalesAmount]\\n\\t\\t, TP.[MSXAmount]\\n\\t\\t, CASE \\n\\t\\t\\tWHEN TP.[MSSalesAmount] * 12 >= TP.[MSXAmount] - 1\\n\\t\\t\\t\\tTHEN 1\\n\\t\\t\\tWHEN EO.[IsNonProfitOpportunity] = 1\\n\\t\\t\\t\\tTHEN 1\\n\\t\\t\\tELSE 0\\n\\t\\t\\tEND AS [TransactionsWithEligibleRevenue]\\n\\tINTO #AllProductTransactions\\n\\tFROM #AllProductTransactionsTemp TP\\n\\tINNER JOIN [dbo].[RVTAddonEligibleOpportunities] EO WITH (NOLOCK)\\n\\t\\tON EO.[OpportunityKey] = TP.[OpportunityKey]\\n\\n\\tSELECT TP.[OpportunityKey]\\n\\t\\t, TP.[SubscriptionID]\\n\\t\\t, TP.[TenantID]\\n\\t\\t, TP.[OrgID]\\n\\t\\t, TP.[ProductID]\\n\\t\\t, TP.[SalesDate]\\n\\t\\t, TP.[TransactionsWithEligibleRevenue]\\n\\tINTO #FinalTransactionsTemp\\n\\tFROM #AllProductTransactions TP\\n\\tWHERE TP.[TransactionsWithEligibleRevenue] = 1\", metadata={'source': 'zepo\\\\uspAssignRVTAddonMOSPOpportunities.sql'})]"
      ]
     },
     "execution_count": 11,
     "metadata": {},
     "output_type": "execute_result"
    }
   ],
   "source": [
    "question = '''Get me list of all tables from which \"#AllProductTransactionsNoCalculation\" table is created'''\n",
    "docs = retriever.get_relevant_documents(question)\n",
    "docs"
   ]
  },
  {
   "cell_type": "code",
   "execution_count": null,
   "metadata": {},
   "outputs": [],
   "source": []
  },
  {
   "cell_type": "code",
   "execution_count": 32,
   "metadata": {},
   "outputs": [],
   "source": [
    "f = open(\"test-splits.sql\", \"w\")"
   ]
  },
  {
   "cell_type": "code",
   "execution_count": 33,
   "metadata": {},
   "outputs": [
    {
     "data": {
      "text/plain": [
       "261843"
      ]
     },
     "execution_count": 33,
     "metadata": {},
     "output_type": "execute_result"
    }
   ],
   "source": [
    "\n",
    "#     for i in 10:\n",
    "#         f.writelines(\"\\n\")\n",
    "\n",
    "f.write( '\\n'.join(' '.join(str(x) for x in t) for t in texts) )"
   ]
  },
  {
   "cell_type": "code",
   "execution_count": null,
   "metadata": {},
   "outputs": [],
   "source": [
    "#Retrieve\n",
    "from langchain.vectorstores import Chroma\n",
    "from langchain.embeddings.openai import OpenAIEmbeddings\n",
    "db = Chroma.from_documents(texts, OpenAIEmbeddings(disallowed_special=()))\n",
    "retriever = db.as_retriever(\n",
    "    search_type=\"mmr\", # Also test \"similarity\"\n",
    "    search_kwargs={\"k\": 8}, #search of different chunks for our query\n",
    ")"
   ]
  },
  {
   "cell_type": "code",
   "execution_count": null,
   "metadata": {},
   "outputs": [],
   "source": [
    "# Get Relevant documents\n",
    "question = '''List all the subdependent tables for the table #AllProductTransactionsNoCalculation'''\n",
    "docs = retriever.get_relevant_documents(question)"
   ]
  },
  {
   "cell_type": "code",
   "execution_count": null,
   "metadata": {},
   "outputs": [],
   "source": [
    "docs"
   ]
  }
 ],
 "metadata": {
  "kernelspec": {
   "display_name": "Python 3",
   "language": "python",
   "name": "python3"
  },
  "language_info": {
   "codemirror_mode": {
    "name": "ipython",
    "version": 3
   },
   "file_extension": ".py",
   "mimetype": "text/x-python",
   "name": "python",
   "nbconvert_exporter": "python",
   "pygments_lexer": "ipython3",
   "version": "3.11.5"
  },
  "orig_nbformat": 4
 },
 "nbformat": 4,
 "nbformat_minor": 2
}
